{
 "cells": [
  {
   "cell_type": "markdown",
   "metadata": {},
   "source": [
    "# problem\n"
   ]
  },
  {
   "cell_type": "markdown",
   "metadata": {},
   "source": [
    "create data set randomly"
   ]
  },
  {
   "cell_type": "code",
   "execution_count": 774,
   "metadata": {},
   "outputs": [
    {
     "name": "stdout",
     "output_type": "stream",
     "text": [
      "            x          y\n",
      "0   50.000000  50.000000\n",
      "1   37.454012  95.071431\n",
      "2   73.199394  59.865848\n",
      "3   15.601864  15.599452\n",
      "4    5.808361  86.617615\n",
      "5   60.111501  70.807258\n",
      "6    2.058449  96.990985\n",
      "7   83.244264  21.233911\n",
      "8   18.182497  18.340451\n",
      "9   30.424224  52.475643\n",
      "10  43.194502  29.122914\n",
      "11  61.185289  13.949386\n",
      "12  29.214465  36.636184\n",
      "13  45.606998  78.517596\n",
      "14  19.967378  51.423444\n",
      "15  59.241457   4.645041\n",
      "16  60.754485  17.052412\n",
      "17   6.505159  94.888554\n",
      "18  96.563203  80.839735\n",
      "19  30.461377   9.767211\n",
      "20  68.423303  44.015249\n"
     ]
    }
   ],
   "source": [
    "import numpy as np\n",
    "import pandas as pd\n",
    "\n",
    "np.random.seed(42)\n",
    "\n",
    "num_customers = 20\n",
    "\n",
    "customer_coords = np.random.rand(num_customers, 2) * 100\n",
    "\n",
    "depot_coords = np.array([[50, 50]])\n",
    "\n",
    "all_coords = np.vstack([depot_coords, customer_coords])\n",
    "\n",
    "coords_df = pd.DataFrame(all_coords, columns=['x', 'y'])\n",
    "\n",
    "coords_df.to_csv('vrp_data.csv', index=False)\n",
    "\n",
    "print(coords_df)"
   ]
  },
  {
   "cell_type": "markdown",
   "metadata": {},
   "source": [
    "# encoding"
   ]
  },
  {
   "cell_type": "markdown",
   "metadata": {},
   "source": []
  },
  {
   "cell_type": "code",
   "execution_count": 775,
   "metadata": {},
   "outputs": [
    {
     "data": {
      "text/plain": [
       "array([ 0,  1,  2,  3,  4,  5,  6,  7,  8,  9, 10, 11, 12, 13, 14, 15, 16,\n",
       "       17, 18, 19, 20])"
      ]
     },
     "execution_count": 775,
     "metadata": {},
     "output_type": "execute_result"
    }
   ],
   "source": [
    "import numpy as np\n",
    "import pandas as pd\n",
    "\n",
    "coords_df = pd.read_csv('vrp_data.csv')\n",
    "\n",
    "all_coords = coords_df.values\n",
    "\n",
    "customer_indices = np.arange(0, len(all_coords))\n",
    "\n",
    "customer_indices"
   ]
  },
  {
   "cell_type": "code",
   "execution_count": 776,
   "metadata": {},
   "outputs": [
    {
     "data": {
      "application/vnd.plotly.v1+json": {
       "config": {
        "plotlyServerURL": "https://plot.ly"
       },
       "data": [
        {
         "hovertemplate": "Location Type=Depot<br>x=%{x}<br>y=%{y}<extra></extra>",
         "legendgroup": "Depot",
         "marker": {
          "color": "#636efa",
          "symbol": "circle"
         },
         "mode": "markers",
         "name": "Depot",
         "orientation": "v",
         "showlegend": true,
         "type": "scatter",
         "x": [
          50
         ],
         "xaxis": "x",
         "y": [
          50
         ],
         "yaxis": "y"
        },
        {
         "hovertemplate": "Location Type=Customer<br>x=%{x}<br>y=%{y}<extra></extra>",
         "legendgroup": "Customer",
         "marker": {
          "color": "#EF553B",
          "symbol": "circle"
         },
         "mode": "markers",
         "name": "Customer",
         "orientation": "v",
         "showlegend": true,
         "type": "scatter",
         "x": [
          37.454011884736246,
          73.1993941811405,
          15.601864044243651,
          5.8083612168199465,
          60.11150117432088,
          2.0584494295802447,
          83.24426408004217,
          18.182496720710063,
          30.42422429595377,
          43.19450186421157,
          61.18528947223795,
          29.21446485352181,
          45.6069984217036,
          19.96737821583597,
          59.24145688620425,
          60.75448519014384,
          6.505159298527952,
          96.56320330745594,
          30.46137691733707,
          68.42330265121569
         ],
         "xaxis": "x",
         "y": [
          95.07143064099162,
          59.86584841970366,
          15.599452033620263,
          86.61761457749351,
          70.80725777960456,
          96.99098521619943,
          21.233911067827616,
          18.34045098534338,
          52.475643163223786,
          29.122914019804192,
          13.949386065204184,
          36.63618432936917,
          78.51759613930136,
          51.42344384136116,
          4.645041271999773,
          17.052412368729154,
          94.88855372533332,
          80.83973481164611,
          9.767211400638388,
          44.01524937396013
         ],
         "yaxis": "y"
        }
       ],
       "layout": {
        "legend": {
         "title": {
          "text": "Location Type"
         },
         "tracegroupgap": 0
        },
        "template": {
         "data": {
          "bar": [
           {
            "error_x": {
             "color": "#2a3f5f"
            },
            "error_y": {
             "color": "#2a3f5f"
            },
            "marker": {
             "line": {
              "color": "#E5ECF6",
              "width": 0.5
             },
             "pattern": {
              "fillmode": "overlay",
              "size": 10,
              "solidity": 0.2
             }
            },
            "type": "bar"
           }
          ],
          "barpolar": [
           {
            "marker": {
             "line": {
              "color": "#E5ECF6",
              "width": 0.5
             },
             "pattern": {
              "fillmode": "overlay",
              "size": 10,
              "solidity": 0.2
             }
            },
            "type": "barpolar"
           }
          ],
          "carpet": [
           {
            "aaxis": {
             "endlinecolor": "#2a3f5f",
             "gridcolor": "white",
             "linecolor": "white",
             "minorgridcolor": "white",
             "startlinecolor": "#2a3f5f"
            },
            "baxis": {
             "endlinecolor": "#2a3f5f",
             "gridcolor": "white",
             "linecolor": "white",
             "minorgridcolor": "white",
             "startlinecolor": "#2a3f5f"
            },
            "type": "carpet"
           }
          ],
          "choropleth": [
           {
            "colorbar": {
             "outlinewidth": 0,
             "ticks": ""
            },
            "type": "choropleth"
           }
          ],
          "contour": [
           {
            "colorbar": {
             "outlinewidth": 0,
             "ticks": ""
            },
            "colorscale": [
             [
              0,
              "#0d0887"
             ],
             [
              0.1111111111111111,
              "#46039f"
             ],
             [
              0.2222222222222222,
              "#7201a8"
             ],
             [
              0.3333333333333333,
              "#9c179e"
             ],
             [
              0.4444444444444444,
              "#bd3786"
             ],
             [
              0.5555555555555556,
              "#d8576b"
             ],
             [
              0.6666666666666666,
              "#ed7953"
             ],
             [
              0.7777777777777778,
              "#fb9f3a"
             ],
             [
              0.8888888888888888,
              "#fdca26"
             ],
             [
              1,
              "#f0f921"
             ]
            ],
            "type": "contour"
           }
          ],
          "contourcarpet": [
           {
            "colorbar": {
             "outlinewidth": 0,
             "ticks": ""
            },
            "type": "contourcarpet"
           }
          ],
          "heatmap": [
           {
            "colorbar": {
             "outlinewidth": 0,
             "ticks": ""
            },
            "colorscale": [
             [
              0,
              "#0d0887"
             ],
             [
              0.1111111111111111,
              "#46039f"
             ],
             [
              0.2222222222222222,
              "#7201a8"
             ],
             [
              0.3333333333333333,
              "#9c179e"
             ],
             [
              0.4444444444444444,
              "#bd3786"
             ],
             [
              0.5555555555555556,
              "#d8576b"
             ],
             [
              0.6666666666666666,
              "#ed7953"
             ],
             [
              0.7777777777777778,
              "#fb9f3a"
             ],
             [
              0.8888888888888888,
              "#fdca26"
             ],
             [
              1,
              "#f0f921"
             ]
            ],
            "type": "heatmap"
           }
          ],
          "heatmapgl": [
           {
            "colorbar": {
             "outlinewidth": 0,
             "ticks": ""
            },
            "colorscale": [
             [
              0,
              "#0d0887"
             ],
             [
              0.1111111111111111,
              "#46039f"
             ],
             [
              0.2222222222222222,
              "#7201a8"
             ],
             [
              0.3333333333333333,
              "#9c179e"
             ],
             [
              0.4444444444444444,
              "#bd3786"
             ],
             [
              0.5555555555555556,
              "#d8576b"
             ],
             [
              0.6666666666666666,
              "#ed7953"
             ],
             [
              0.7777777777777778,
              "#fb9f3a"
             ],
             [
              0.8888888888888888,
              "#fdca26"
             ],
             [
              1,
              "#f0f921"
             ]
            ],
            "type": "heatmapgl"
           }
          ],
          "histogram": [
           {
            "marker": {
             "pattern": {
              "fillmode": "overlay",
              "size": 10,
              "solidity": 0.2
             }
            },
            "type": "histogram"
           }
          ],
          "histogram2d": [
           {
            "colorbar": {
             "outlinewidth": 0,
             "ticks": ""
            },
            "colorscale": [
             [
              0,
              "#0d0887"
             ],
             [
              0.1111111111111111,
              "#46039f"
             ],
             [
              0.2222222222222222,
              "#7201a8"
             ],
             [
              0.3333333333333333,
              "#9c179e"
             ],
             [
              0.4444444444444444,
              "#bd3786"
             ],
             [
              0.5555555555555556,
              "#d8576b"
             ],
             [
              0.6666666666666666,
              "#ed7953"
             ],
             [
              0.7777777777777778,
              "#fb9f3a"
             ],
             [
              0.8888888888888888,
              "#fdca26"
             ],
             [
              1,
              "#f0f921"
             ]
            ],
            "type": "histogram2d"
           }
          ],
          "histogram2dcontour": [
           {
            "colorbar": {
             "outlinewidth": 0,
             "ticks": ""
            },
            "colorscale": [
             [
              0,
              "#0d0887"
             ],
             [
              0.1111111111111111,
              "#46039f"
             ],
             [
              0.2222222222222222,
              "#7201a8"
             ],
             [
              0.3333333333333333,
              "#9c179e"
             ],
             [
              0.4444444444444444,
              "#bd3786"
             ],
             [
              0.5555555555555556,
              "#d8576b"
             ],
             [
              0.6666666666666666,
              "#ed7953"
             ],
             [
              0.7777777777777778,
              "#fb9f3a"
             ],
             [
              0.8888888888888888,
              "#fdca26"
             ],
             [
              1,
              "#f0f921"
             ]
            ],
            "type": "histogram2dcontour"
           }
          ],
          "mesh3d": [
           {
            "colorbar": {
             "outlinewidth": 0,
             "ticks": ""
            },
            "type": "mesh3d"
           }
          ],
          "parcoords": [
           {
            "line": {
             "colorbar": {
              "outlinewidth": 0,
              "ticks": ""
             }
            },
            "type": "parcoords"
           }
          ],
          "pie": [
           {
            "automargin": true,
            "type": "pie"
           }
          ],
          "scatter": [
           {
            "fillpattern": {
             "fillmode": "overlay",
             "size": 10,
             "solidity": 0.2
            },
            "type": "scatter"
           }
          ],
          "scatter3d": [
           {
            "line": {
             "colorbar": {
              "outlinewidth": 0,
              "ticks": ""
             }
            },
            "marker": {
             "colorbar": {
              "outlinewidth": 0,
              "ticks": ""
             }
            },
            "type": "scatter3d"
           }
          ],
          "scattercarpet": [
           {
            "marker": {
             "colorbar": {
              "outlinewidth": 0,
              "ticks": ""
             }
            },
            "type": "scattercarpet"
           }
          ],
          "scattergeo": [
           {
            "marker": {
             "colorbar": {
              "outlinewidth": 0,
              "ticks": ""
             }
            },
            "type": "scattergeo"
           }
          ],
          "scattergl": [
           {
            "marker": {
             "colorbar": {
              "outlinewidth": 0,
              "ticks": ""
             }
            },
            "type": "scattergl"
           }
          ],
          "scattermapbox": [
           {
            "marker": {
             "colorbar": {
              "outlinewidth": 0,
              "ticks": ""
             }
            },
            "type": "scattermapbox"
           }
          ],
          "scatterpolar": [
           {
            "marker": {
             "colorbar": {
              "outlinewidth": 0,
              "ticks": ""
             }
            },
            "type": "scatterpolar"
           }
          ],
          "scatterpolargl": [
           {
            "marker": {
             "colorbar": {
              "outlinewidth": 0,
              "ticks": ""
             }
            },
            "type": "scatterpolargl"
           }
          ],
          "scatterternary": [
           {
            "marker": {
             "colorbar": {
              "outlinewidth": 0,
              "ticks": ""
             }
            },
            "type": "scatterternary"
           }
          ],
          "surface": [
           {
            "colorbar": {
             "outlinewidth": 0,
             "ticks": ""
            },
            "colorscale": [
             [
              0,
              "#0d0887"
             ],
             [
              0.1111111111111111,
              "#46039f"
             ],
             [
              0.2222222222222222,
              "#7201a8"
             ],
             [
              0.3333333333333333,
              "#9c179e"
             ],
             [
              0.4444444444444444,
              "#bd3786"
             ],
             [
              0.5555555555555556,
              "#d8576b"
             ],
             [
              0.6666666666666666,
              "#ed7953"
             ],
             [
              0.7777777777777778,
              "#fb9f3a"
             ],
             [
              0.8888888888888888,
              "#fdca26"
             ],
             [
              1,
              "#f0f921"
             ]
            ],
            "type": "surface"
           }
          ],
          "table": [
           {
            "cells": {
             "fill": {
              "color": "#EBF0F8"
             },
             "line": {
              "color": "white"
             }
            },
            "header": {
             "fill": {
              "color": "#C8D4E3"
             },
             "line": {
              "color": "white"
             }
            },
            "type": "table"
           }
          ]
         },
         "layout": {
          "annotationdefaults": {
           "arrowcolor": "#2a3f5f",
           "arrowhead": 0,
           "arrowwidth": 1
          },
          "autotypenumbers": "strict",
          "coloraxis": {
           "colorbar": {
            "outlinewidth": 0,
            "ticks": ""
           }
          },
          "colorscale": {
           "diverging": [
            [
             0,
             "#8e0152"
            ],
            [
             0.1,
             "#c51b7d"
            ],
            [
             0.2,
             "#de77ae"
            ],
            [
             0.3,
             "#f1b6da"
            ],
            [
             0.4,
             "#fde0ef"
            ],
            [
             0.5,
             "#f7f7f7"
            ],
            [
             0.6,
             "#e6f5d0"
            ],
            [
             0.7,
             "#b8e186"
            ],
            [
             0.8,
             "#7fbc41"
            ],
            [
             0.9,
             "#4d9221"
            ],
            [
             1,
             "#276419"
            ]
           ],
           "sequential": [
            [
             0,
             "#0d0887"
            ],
            [
             0.1111111111111111,
             "#46039f"
            ],
            [
             0.2222222222222222,
             "#7201a8"
            ],
            [
             0.3333333333333333,
             "#9c179e"
            ],
            [
             0.4444444444444444,
             "#bd3786"
            ],
            [
             0.5555555555555556,
             "#d8576b"
            ],
            [
             0.6666666666666666,
             "#ed7953"
            ],
            [
             0.7777777777777778,
             "#fb9f3a"
            ],
            [
             0.8888888888888888,
             "#fdca26"
            ],
            [
             1,
             "#f0f921"
            ]
           ],
           "sequentialminus": [
            [
             0,
             "#0d0887"
            ],
            [
             0.1111111111111111,
             "#46039f"
            ],
            [
             0.2222222222222222,
             "#7201a8"
            ],
            [
             0.3333333333333333,
             "#9c179e"
            ],
            [
             0.4444444444444444,
             "#bd3786"
            ],
            [
             0.5555555555555556,
             "#d8576b"
            ],
            [
             0.6666666666666666,
             "#ed7953"
            ],
            [
             0.7777777777777778,
             "#fb9f3a"
            ],
            [
             0.8888888888888888,
             "#fdca26"
            ],
            [
             1,
             "#f0f921"
            ]
           ]
          },
          "colorway": [
           "#636efa",
           "#EF553B",
           "#00cc96",
           "#ab63fa",
           "#FFA15A",
           "#19d3f3",
           "#FF6692",
           "#B6E880",
           "#FF97FF",
           "#FECB52"
          ],
          "font": {
           "color": "#2a3f5f"
          },
          "geo": {
           "bgcolor": "white",
           "lakecolor": "white",
           "landcolor": "#E5ECF6",
           "showlakes": true,
           "showland": true,
           "subunitcolor": "white"
          },
          "hoverlabel": {
           "align": "left"
          },
          "hovermode": "closest",
          "mapbox": {
           "style": "light"
          },
          "paper_bgcolor": "white",
          "plot_bgcolor": "#E5ECF6",
          "polar": {
           "angularaxis": {
            "gridcolor": "white",
            "linecolor": "white",
            "ticks": ""
           },
           "bgcolor": "#E5ECF6",
           "radialaxis": {
            "gridcolor": "white",
            "linecolor": "white",
            "ticks": ""
           }
          },
          "scene": {
           "xaxis": {
            "backgroundcolor": "#E5ECF6",
            "gridcolor": "white",
            "gridwidth": 2,
            "linecolor": "white",
            "showbackground": true,
            "ticks": "",
            "zerolinecolor": "white"
           },
           "yaxis": {
            "backgroundcolor": "#E5ECF6",
            "gridcolor": "white",
            "gridwidth": 2,
            "linecolor": "white",
            "showbackground": true,
            "ticks": "",
            "zerolinecolor": "white"
           },
           "zaxis": {
            "backgroundcolor": "#E5ECF6",
            "gridcolor": "white",
            "gridwidth": 2,
            "linecolor": "white",
            "showbackground": true,
            "ticks": "",
            "zerolinecolor": "white"
           }
          },
          "shapedefaults": {
           "line": {
            "color": "#2a3f5f"
           }
          },
          "ternary": {
           "aaxis": {
            "gridcolor": "white",
            "linecolor": "white",
            "ticks": ""
           },
           "baxis": {
            "gridcolor": "white",
            "linecolor": "white",
            "ticks": ""
           },
           "bgcolor": "#E5ECF6",
           "caxis": {
            "gridcolor": "white",
            "linecolor": "white",
            "ticks": ""
           }
          },
          "title": {
           "x": 0.05
          },
          "xaxis": {
           "automargin": true,
           "gridcolor": "white",
           "linecolor": "white",
           "ticks": "",
           "title": {
            "standoff": 15
           },
           "zerolinecolor": "white",
           "zerolinewidth": 2
          },
          "yaxis": {
           "automargin": true,
           "gridcolor": "white",
           "linecolor": "white",
           "ticks": "",
           "title": {
            "standoff": 15
           },
           "zerolinecolor": "white",
           "zerolinewidth": 2
          }
         }
        },
        "title": {
         "text": "Customer and Depot Locations"
        },
        "xaxis": {
         "anchor": "y",
         "domain": [
          0,
          1
         ],
         "title": {
          "text": "x"
         }
        },
        "yaxis": {
         "anchor": "x",
         "domain": [
          0,
          1
         ],
         "title": {
          "text": "y"
         }
        }
       }
      }
     },
     "metadata": {},
     "output_type": "display_data"
    }
   ],
   "source": [
    "import plotly.express as px\n",
    "\n",
    "fig = px.scatter(coords_df, x='x', y='y', color=['Depot'] + ['Customer']*num_customers, \n",
    "                 labels={'color': 'Location Type'}, title='Customer and Depot Locations')\n",
    "\n",
    "fig.show()\n"
   ]
  },
  {
   "cell_type": "markdown",
   "metadata": {},
   "source": [
    "# population intilaztion"
   ]
  },
  {
   "cell_type": "code",
   "execution_count": 777,
   "metadata": {},
   "outputs": [],
   "source": [
    "def initialize_population(pop_size, num_customers):\n",
    "    customer_indices = np.arange(1, num_customers + 1)  # Exclude depot\n",
    "    population = []\n",
    "    for _ in range(pop_size):\n",
    "        route = np.random.permutation(customer_indices)  # Random customer order\n",
    "        route = np.concatenate(([0], route, [0]))       # Add depot at start and end\n",
    "        population.append(route)\n",
    "\n",
    "    return np.array(population)\n"
   ]
  },
  {
   "cell_type": "markdown",
   "metadata": {},
   "source": [
    "# huristic function"
   ]
  },
  {
   "cell_type": "code",
   "execution_count": 778,
   "metadata": {},
   "outputs": [],
   "source": [
    "def calculate_distance(route, coords):\n",
    "    total_distance = 0\n",
    "    for i in range(len(route) - 1):\n",
    "        total_distance += np.linalg.norm(coords[route[i]] - coords[route[i + 1]])\n",
    "    return total_distance\n"
   ]
  },
  {
   "cell_type": "code",
   "execution_count": 779,
   "metadata": {},
   "outputs": [
    {
     "data": {
      "text/plain": [
       "[array([ 0,  5, 13,  9, 14, 12,  8,  3, 19, 10, 16, 11, 15,  7, 20,  2, 18,\n",
       "         1, 17,  4,  0]),\n",
       " array([ 0,  5, 13,  9, 14, 12,  8,  3, 19, 10, 16, 11, 15,  7, 20,  2, 18,\n",
       "         1, 17,  4,  0]),\n",
       " array([ 0,  5, 13,  9, 14, 12,  8,  3, 19, 10, 16, 11, 15,  7, 20,  2, 18,\n",
       "         1, 17,  4,  0]),\n",
       " array([ 0,  5, 13,  9, 14, 12,  8,  3, 19, 10, 16, 11, 15,  7, 20,  2, 18,\n",
       "         1, 17,  4,  0]),\n",
       " array([ 0,  5, 13,  9, 14, 12,  8,  3, 19, 10, 16, 11, 15,  7, 20,  2, 18,\n",
       "         1, 17,  4,  0]),\n",
       " array([ 0,  5, 13,  9, 14, 12,  8,  3, 19, 10, 16, 11, 15,  7, 20,  2, 18,\n",
       "         1, 17,  4,  0]),\n",
       " array([ 0,  5, 13,  9, 14, 12,  8,  3, 19, 10, 16, 11, 15,  7, 20,  2, 18,\n",
       "         1, 17,  4,  0]),\n",
       " array([ 0,  5, 13,  9, 14, 12,  8,  3, 19, 10, 16, 11, 15,  7, 20,  2, 18,\n",
       "         1, 17,  4,  0]),\n",
       " array([ 0,  5, 13,  9, 14, 12,  8,  3, 19, 10, 16, 11, 15,  7, 20,  2, 18,\n",
       "         1, 17,  4,  0]),\n",
       " array([ 0,  5, 13,  9, 14, 12,  8,  3, 19, 10, 16, 11, 15,  7, 20,  2, 18,\n",
       "         1, 17,  4,  0]),\n",
       " array([ 0,  5, 13,  9, 14, 12,  8,  3, 19, 10, 16, 11, 15,  7, 20,  2, 18,\n",
       "         1, 17,  4,  0]),\n",
       " array([ 0,  5, 13,  9, 14, 12,  8,  3, 19, 10, 16, 11, 15,  7, 20,  2, 18,\n",
       "         1, 17,  4,  0]),\n",
       " array([ 0,  5, 13,  9, 14, 12,  8,  3, 19, 10, 16, 11, 15,  7, 20,  2, 18,\n",
       "         1, 17,  4,  0]),\n",
       " array([ 0,  5, 13,  9, 14, 12,  8,  3, 19, 10, 16, 11, 15,  7, 20,  2, 18,\n",
       "         1, 17,  4,  0]),\n",
       " array([ 0,  5, 13,  9, 14, 12,  8,  3, 19, 10, 16, 11, 15,  7, 20,  2, 18,\n",
       "         1, 17,  4,  0]),\n",
       " array([ 0,  5, 13,  9, 14, 12,  8,  3, 19, 10, 16, 11, 15,  7, 20,  2, 18,\n",
       "         1, 17,  4,  0]),\n",
       " array([ 0,  5, 13,  9, 14, 12,  8,  3, 19, 10, 16, 11, 15,  7, 20,  2, 18,\n",
       "         1, 17,  4,  0]),\n",
       " array([ 0,  5, 13,  9, 14, 12,  8,  3, 19, 10, 16, 11, 15,  7, 20,  2, 18,\n",
       "         1, 17,  4,  0]),\n",
       " array([ 0,  5, 13,  9, 14, 12,  8,  3, 19, 10, 16, 11, 15,  7, 20,  2, 18,\n",
       "         1, 17,  4,  0]),\n",
       " array([ 0,  5, 13,  9, 14, 12,  8,  3, 19, 10, 16, 11, 15,  7, 20,  2, 18,\n",
       "         1, 17,  4,  0]),\n",
       " array([ 0,  5, 13,  9, 14, 12,  8,  3, 19, 10, 16, 11, 15,  7, 20,  2, 18,\n",
       "         1, 17,  4,  0]),\n",
       " array([ 0,  5, 13,  9, 14, 12,  8,  3, 19, 10, 16, 11, 15,  7, 20,  2, 18,\n",
       "         1, 17,  4,  0]),\n",
       " array([ 0,  5, 13,  9, 14, 12,  8,  3, 19, 10, 16, 11, 15,  7, 20,  2, 18,\n",
       "         1, 17,  4,  0]),\n",
       " array([ 0,  5, 13,  9, 14, 12,  8,  3, 19, 10, 16, 11, 15,  7, 20,  2, 18,\n",
       "         1, 17,  4,  0]),\n",
       " array([ 0,  5, 13,  9, 14, 12,  8,  3, 19, 10, 16, 11, 15,  7, 20,  2, 18,\n",
       "         1, 17,  4,  0]),\n",
       " array([ 0,  5, 13,  9, 14, 12,  8,  3, 19, 10, 16, 11, 15,  7, 20,  2, 18,\n",
       "         1, 17,  4,  0]),\n",
       " array([ 0,  5, 13,  9, 14, 12,  8,  3, 19, 10, 16, 11, 15,  7, 20,  2, 18,\n",
       "         1, 17,  4,  0]),\n",
       " array([ 0,  5, 13,  9, 14, 12,  8,  3, 19, 10, 16, 11, 15,  7, 20,  2, 18,\n",
       "         1, 17,  4,  0]),\n",
       " array([ 0,  5, 13,  9, 14, 12,  8,  3, 19, 10, 16, 11, 15,  7, 20,  2, 18,\n",
       "         1, 17,  4,  0]),\n",
       " array([ 0,  5, 13,  9, 14, 12,  8,  3, 19, 10, 16, 11, 15,  7, 20,  2, 18,\n",
       "         1, 17,  4,  0]),\n",
       " array([ 0,  5, 13,  9, 14, 12,  8,  3, 19, 10, 16, 11, 15,  7, 20,  2, 18,\n",
       "         1, 17,  4,  0]),\n",
       " array([ 0,  5, 13,  9, 14, 12,  8,  3, 19, 10, 16, 11, 15,  7, 20,  2, 18,\n",
       "         1, 17,  4,  0]),\n",
       " array([ 0,  5, 13,  9, 14, 12,  8,  3, 19, 10, 16, 11, 15,  7, 20,  2, 18,\n",
       "         1, 17,  4,  0]),\n",
       " array([ 0,  5, 13,  9, 14, 12,  8,  3, 19, 10, 16, 11, 15,  7, 20,  2, 18,\n",
       "         1, 17,  4,  0]),\n",
       " array([ 0,  5, 13,  9, 14, 12,  8,  3, 19, 10, 16, 11, 15,  7, 20,  2, 18,\n",
       "         1, 17,  4,  0]),\n",
       " array([ 0,  5, 13,  9, 14, 12,  8,  3, 19, 10, 16, 11, 15,  7, 20,  2, 18,\n",
       "         1, 17,  4,  0]),\n",
       " array([ 0,  5, 13,  9, 14, 12,  8,  3, 19, 10, 16, 11, 15,  7, 20,  2, 18,\n",
       "         1, 17,  4,  0]),\n",
       " array([ 0,  5, 13,  9, 14, 12,  8,  3, 19, 10, 16, 11, 15,  7, 20,  2, 18,\n",
       "         1, 17,  4,  0]),\n",
       " array([ 0,  5, 13,  9, 14, 12,  8,  3, 19, 10, 16, 11, 15,  7, 20,  2, 18,\n",
       "         1, 17,  4,  0]),\n",
       " array([ 0,  5, 13,  9, 14, 12,  8,  3, 19, 10, 16, 11, 15,  7, 20,  2, 18,\n",
       "         1, 17,  4,  0]),\n",
       " array([ 0,  5, 13,  9, 14, 12,  8,  3, 19, 10, 16, 11, 15,  7, 20,  2, 18,\n",
       "         1, 17,  4,  0]),\n",
       " array([ 0,  5, 13,  9, 14, 12,  8,  3, 19, 10, 16, 11, 15,  7, 20,  2, 18,\n",
       "         1, 17,  4,  0]),\n",
       " array([ 0,  5, 13,  9, 14, 12,  8,  3, 19, 10, 16, 11, 15,  7, 20,  2, 18,\n",
       "         1, 17,  4,  0]),\n",
       " array([ 0,  5, 13,  9, 14, 12,  8,  3, 19, 10, 16, 11, 15,  7, 20,  2, 18,\n",
       "         1, 17,  4,  0]),\n",
       " array([ 0,  5, 13,  9, 14, 12,  8,  3, 19, 10, 16, 11, 15,  7, 20,  2, 18,\n",
       "         1, 17,  4,  0]),\n",
       " array([ 0,  5, 13,  9, 14, 12,  8,  3, 19, 10, 16, 11, 15,  7, 20,  2, 18,\n",
       "         1, 17,  4,  0]),\n",
       " array([ 0,  5, 13,  9, 14, 12,  8,  3, 19, 10, 16, 11, 15,  7, 20,  2, 18,\n",
       "         1, 17,  4,  0]),\n",
       " array([ 0,  5, 13,  9, 14, 12,  8,  3, 19, 10, 16, 11, 15,  7, 20,  2, 18,\n",
       "         1, 17,  4,  0]),\n",
       " array([ 0,  5, 13,  9, 14, 12,  8,  3, 19, 10, 16, 11, 15,  7, 20,  2, 18,\n",
       "         1, 17,  4,  0]),\n",
       " array([ 0,  5, 13,  9, 14, 12,  8,  3, 19, 10, 16, 11, 15,  7, 20,  2, 18,\n",
       "         1, 17,  4,  0]),\n",
       " array([ 0,  5, 13,  9, 14, 12,  8,  3, 19, 10, 16, 11, 15,  7, 20,  2, 18,\n",
       "         1, 17,  4,  0]),\n",
       " array([ 0,  5, 13,  9, 14, 12,  8,  3, 19, 10, 16, 11, 15,  7, 20,  2, 18,\n",
       "         1, 17,  4,  0]),\n",
       " array([ 0,  5, 13,  9, 14, 12,  8,  3, 19, 10, 16, 11, 15,  7, 20,  2, 18,\n",
       "         1, 17,  4,  0]),\n",
       " array([ 0,  5, 13,  9, 14, 12,  8,  3, 19, 10, 16, 11, 15,  7, 20,  2, 18,\n",
       "         1, 17,  4,  0]),\n",
       " array([ 0,  5, 13,  9, 14, 12,  8,  3, 19, 10, 16, 11, 15,  7, 20,  2, 18,\n",
       "         1, 17,  4,  0]),\n",
       " array([ 0,  5, 13,  9, 14, 12,  8,  3, 19, 10, 16, 11, 15,  7, 20,  2, 18,\n",
       "         1, 17,  4,  0]),\n",
       " array([ 0,  5, 13,  9, 14, 12,  8,  3, 19, 10, 16, 11, 15,  7, 20,  2, 18,\n",
       "         1, 17,  4,  0]),\n",
       " array([ 0,  5, 13,  9, 14, 12,  8,  3, 19, 10, 16, 11, 15,  7, 20,  2, 18,\n",
       "         1, 17,  4,  0]),\n",
       " array([ 0,  5, 13,  9, 14, 12,  8,  3, 19, 10, 16, 11, 15,  7, 20,  2, 18,\n",
       "         1, 17,  4,  0]),\n",
       " array([ 0,  5, 13,  9, 14, 12,  8,  3, 19, 10, 16, 11, 15,  7, 20,  2, 18,\n",
       "         1, 17,  4,  0]),\n",
       " array([ 0,  5, 13,  9, 14, 12,  8,  3, 19, 10, 16, 11, 15,  7, 20,  2, 18,\n",
       "         1, 17,  4,  0]),\n",
       " array([ 0,  5, 13,  9, 14, 12,  8,  3, 19, 10, 16, 11, 15,  7, 20,  2, 18,\n",
       "         1, 17,  4,  0]),\n",
       " array([ 0,  5, 13,  9, 14, 12,  8,  3, 19, 10, 16, 11, 15,  7, 20,  2, 18,\n",
       "         1, 17,  4,  0]),\n",
       " array([ 0,  5, 13,  9, 14, 12,  8,  3, 19, 10, 16, 11, 15,  7, 20,  2, 18,\n",
       "         1, 17,  4,  0]),\n",
       " array([ 0,  5, 13,  9, 14, 12,  8,  3, 19, 10, 16, 11, 15,  7, 20,  2, 18,\n",
       "         1, 17,  4,  0]),\n",
       " array([ 0,  5, 13,  9, 14, 12,  8,  3, 19, 10, 16, 11, 15,  7, 20,  2, 18,\n",
       "         1, 17,  4,  0]),\n",
       " array([ 0,  5, 13,  9, 14, 12,  8,  3, 19, 10, 16, 11, 15,  7, 20,  2, 18,\n",
       "         1, 17,  4,  0]),\n",
       " array([ 0,  5, 13,  9, 14, 12,  8,  3, 19, 10, 16, 11, 15,  7, 20,  2, 18,\n",
       "         1, 17,  4,  0]),\n",
       " array([ 0,  5, 13,  9, 14, 12,  8,  3, 19, 10, 16, 11, 15,  7, 20,  2, 18,\n",
       "         1, 17,  4,  0]),\n",
       " array([ 0,  5, 13,  9, 14, 12,  8,  3, 19, 10, 16, 11, 15,  7, 20,  2, 18,\n",
       "         1, 17,  4,  0]),\n",
       " array([ 0,  5, 13,  9, 14, 12,  8,  3, 19, 10, 16, 11, 15,  7, 20,  2, 18,\n",
       "         1, 17,  4,  0]),\n",
       " array([ 0,  5, 13,  9, 14, 12,  8,  3, 19, 10, 16, 11, 15,  7, 20,  2, 18,\n",
       "         1, 17,  4,  0]),\n",
       " array([ 0,  5, 13,  9, 14, 12,  8,  3, 19, 10, 16, 11, 15,  7, 20,  2, 18,\n",
       "         1, 17,  4,  0]),\n",
       " array([ 0,  5, 13,  9, 14, 12,  8,  3, 19, 10, 16, 11, 15,  7, 20,  2, 18,\n",
       "         1, 17,  4,  0]),\n",
       " array([ 0,  5, 13,  9, 14, 12,  8,  3, 19, 10, 16, 11, 15,  7, 20,  2, 18,\n",
       "         1, 17,  4,  0]),\n",
       " array([ 0,  5, 13,  9, 14, 12,  8,  3, 19, 10, 16, 11, 15,  7, 20,  2, 18,\n",
       "         1, 17,  4,  0]),\n",
       " array([ 0,  5, 13,  9, 14, 12,  8,  3, 19, 10, 16, 11, 15,  7, 20,  2, 18,\n",
       "         1, 17,  4,  0]),\n",
       " array([ 0,  5, 13,  9, 14, 12,  8,  3, 19, 10, 16, 11, 15,  7, 20,  2, 18,\n",
       "         1, 17,  4,  0]),\n",
       " array([ 0,  5, 13,  9, 14, 12,  8,  3, 19, 10, 16, 11, 15,  7, 20,  2, 18,\n",
       "         1, 17,  4,  0]),\n",
       " array([ 0,  5, 13,  9, 14, 12,  8,  3, 19, 10, 16, 11, 15,  7, 20,  2, 18,\n",
       "         1, 17,  4,  0]),\n",
       " array([ 0,  5, 13,  9, 14, 12,  8,  3, 19, 10, 16, 11, 15,  7, 20,  2, 18,\n",
       "         1, 17,  4,  0]),\n",
       " array([ 0,  5, 13,  9, 14, 12,  8,  3, 19, 10, 16, 11, 15,  7, 20,  2, 18,\n",
       "         1, 17,  4,  0]),\n",
       " array([ 0,  5, 13,  9, 14, 12,  8,  3, 19, 10, 16, 11, 15,  7, 20,  2, 18,\n",
       "         1, 17,  4,  0]),\n",
       " array([ 0,  5, 13,  9, 14, 12,  8,  3, 19, 10, 16, 11, 15,  7, 20,  2, 18,\n",
       "         1, 17,  4,  0]),\n",
       " array([ 0,  5, 13,  9, 14, 12,  8,  3, 19, 10, 16, 11, 15,  7, 20,  2, 18,\n",
       "         1, 17,  4,  0]),\n",
       " array([ 0,  5, 13,  9, 14, 12,  8,  3, 19, 10, 16, 11, 15,  7, 20,  2, 18,\n",
       "         1, 17,  4,  0]),\n",
       " array([ 0,  5, 13,  9, 14, 12,  8,  3, 19, 10, 16, 11, 15,  7, 20,  2, 18,\n",
       "         1, 17,  4,  0]),\n",
       " array([ 0,  5, 13,  9, 14, 12,  8,  3, 19, 10, 16, 11, 15,  7, 20,  2, 18,\n",
       "         1, 17,  4,  0]),\n",
       " array([ 0,  5, 13,  9, 14, 12,  8,  3, 19, 10, 16, 11, 15,  7, 20,  2, 18,\n",
       "         1, 17,  4,  0]),\n",
       " array([ 0,  5, 13,  9, 14, 12,  8,  3, 19, 10, 16, 11, 15,  7, 20,  2, 18,\n",
       "         1, 17,  4,  0]),\n",
       " array([ 0,  5, 13,  9, 14, 12,  8,  3, 19, 10, 16, 11, 15,  7, 20,  2, 18,\n",
       "         1, 17,  4,  0]),\n",
       " array([ 0,  5, 13,  9, 14, 12,  8,  3, 19, 10, 16, 11, 15,  7, 20,  2, 18,\n",
       "         1, 17,  4,  0]),\n",
       " array([ 0,  5, 13,  9, 14, 12,  8,  3, 19, 10, 16, 11, 15,  7, 20,  2, 18,\n",
       "         1, 17,  4,  0]),\n",
       " array([ 0,  5, 13,  9, 14, 12,  8,  3, 19, 10, 16, 11, 15,  7, 20,  2, 18,\n",
       "         1, 17,  4,  0]),\n",
       " array([ 0,  5, 13,  9, 14, 12,  8,  3, 19, 10, 16, 11, 15,  7, 20,  2, 18,\n",
       "         1, 17,  4,  0]),\n",
       " array([ 0,  5, 13,  9, 14, 12,  8,  3, 19, 10, 16, 11, 15,  7, 20,  2, 18,\n",
       "         1, 17,  4,  0]),\n",
       " array([ 0,  5, 13,  9, 14, 12,  8,  3, 19, 10, 16, 11, 15,  7, 20,  2, 18,\n",
       "         1, 17,  4,  0]),\n",
       " array([ 0,  5, 13,  9, 14, 12,  8,  3, 19, 10, 16, 11, 15,  7, 20,  2, 18,\n",
       "         1, 17,  4,  0]),\n",
       " array([ 0,  5, 13,  9, 14, 12,  8,  3, 19, 10, 16, 11, 15,  7, 20,  2, 18,\n",
       "         1, 17,  4,  0]),\n",
       " array([ 0,  5, 13,  9, 14, 12,  8,  3, 19, 10, 16, 11, 15,  7, 20,  2, 18,\n",
       "         1, 17,  4,  0])]"
      ]
     },
     "execution_count": 779,
     "metadata": {},
     "output_type": "execute_result"
    }
   ],
   "source": [
    "population"
   ]
  },
  {
   "cell_type": "markdown",
   "metadata": {},
   "source": [
    "# selection function"
   ]
  },
  {
   "cell_type": "code",
   "execution_count": 780,
   "metadata": {},
   "outputs": [],
   "source": [
    "import random\n",
    "\n",
    "def selection(population, fitness_scores, num_parents):\n",
    "    sorted_indices = np.argsort(fitness_scores)\n",
    "    ranked_population = [population[i] for i in sorted_indices]\n",
    "    selected_parents = ranked_population[:num_parents]\n",
    "    return selected_parents"
   ]
  },
  {
   "cell_type": "markdown",
   "metadata": {},
   "source": [
    "# crossover function"
   ]
  },
  {
   "cell_type": "code",
   "execution_count": 781,
   "metadata": {},
   "outputs": [],
   "source": [
    "def crossover(parent1, parent2):\n",
    "    size = len(parent1) - 2  # Exclude depots at start and end\n",
    "    point = np.random.randint(1, size)  # Crossover point (exclude depot)\n",
    "    child = [-1] * len(parent1)\n",
    "    child[0], child[-1] = 0, 0  # Keep depot fixed\n",
    "    child[1:point + 1] = parent1[1:point + 1]  # Inherit from parent1\n",
    "\n",
    "    # Fill in the remaining cities from parent2 in order\n",
    "    pointer = point + 1\n",
    "    for gene in parent2:\n",
    "        if gene not in child:\n",
    "            child[pointer] = gene\n",
    "            pointer += 1\n",
    "\n",
    "    return np.array(child)\n"
   ]
  },
  {
   "cell_type": "code",
   "execution_count": 782,
   "metadata": {},
   "outputs": [],
   "source": [
    "def mutate(route, mutation_rate):\n",
    "    if np.random.rand() < mutation_rate:\n",
    "        idx1, idx2 = np.random.choice(range(1, len(route) - 1), 2, replace=False)\n",
    "        route[idx1], route[idx2] = route[idx2], route[idx1]\n",
    "    return route\n"
   ]
  },
  {
   "cell_type": "markdown",
   "metadata": {},
   "source": [
    "<h1>evlolve </h1>\n",
    "<p>Something </p>\n",
    "\n",
    "<style>\n",
    "    h1 {\n",
    "        color: red;\n",
    "    }\n",
    "    p {\n",
    "        position: relative;\n",
    "        animation: moveRightLeft 2s infinite ease-in-out;\n",
    "    }\n",
    "\n",
    "    @keyframes moveRightLeft {\n",
    "        0% {\n",
    "            left: 0;\n",
    "        }\n",
    "        50% {\n",
    "            left: 100px;\n",
    "        }\n",
    "        100% {\n",
    "            left: 0;\n",
    "        }\n",
    "    }\n",
    "</style>"
   ]
  },
  {
   "cell_type": "code",
   "execution_count": 783,
   "metadata": {},
   "outputs": [],
   "source": [
    "def validate_and_repair(route, num_customers):\n",
    "    all_customers = set(range(1, num_customers + 1))\n",
    "    visited = set(route[1:-1])  # Exclude depot\n",
    "    missing_customers = list(all_customers - visited)\n",
    "    duplicates = [c for c in route[1:-1] if route[1:-1].tolist().count(c) > 1]\n",
    "\n",
    "    for i in range(1, len(route) - 1):\n",
    "        if route[i] in duplicates:\n",
    "            route[i] = missing_customers.pop()\n",
    "            duplicates.remove(route[i])\n",
    "    return route\n"
   ]
  },
  {
   "cell_type": "code",
   "execution_count": 784,
   "metadata": {},
   "outputs": [],
   "source": [
    "def evolve_population(population, coords, num_customers, mutation_rate, retain_rate):\n",
    "    # Calculate fitness for each route\n",
    "    fitness_scores = [1 / calculate_distance(route, coords) for route in population]\n",
    "\n",
    "    # Sort by fitness (descending)\n",
    "    sorted_indices = np.argsort(fitness_scores)[::-1]\n",
    "    retain_length = int(len(population) * retain_rate)\n",
    "    parents = [population[i] for i in sorted_indices[:retain_length]]\n",
    "\n",
    "    # Create children through crossover\n",
    "    children = []\n",
    "    while len(children) < len(population) - len(parents):\n",
    "        # Simplified parent selection for debugging\n",
    "        p1, p2 = parents[0], parents[1]  # Just use the first two parents\n",
    "\n",
    "        child = crossover(p1, p2)\n",
    "        children.append(child)\n",
    "\n",
    "    # Mutate and repair children\n",
    "    next_gen = parents + children\n",
    "    next_gen = [validate_and_repair(mutate(route, mutation_rate), num_customers) for route in next_gen]\n",
    "\n",
    "    return np.array(next_gen)\n"
   ]
  },
  {
   "cell_type": "markdown",
   "metadata": {},
   "source": [
    "# trying the alogrithm "
   ]
  },
  {
   "cell_type": "code",
   "execution_count": null,
   "metadata": {},
   "outputs": [],
   "source": [
    "def run_ga(coords, num_customers, population_size=100, generations=1000, mutation_rate=0.02, retain_rate=0.2):\n",
    "    \"\"\"\n",
    "    Runs the Genetic Algorithm for the VRP.\n",
    "    \n",
    "    Parameters:\n",
    "        coords (np.ndarray): Array of customer and depot coordinates (shape: [n, 2]).\n",
    "        num_customers (int): Number of customers (excluding depot).\n",
    "        population_size (int): Number of individuals in the population.\n",
    "        generations (int): Number of generations to run.\n",
    "        mutation_rate (float): Probability of mutation for each individual.\n",
    "        retain_rate (float): Proportion of top-performing individuals to retain.\n",
    "\n",
    "    Returns:\n",
    "        best_route (np.ndarray): The best route found.\n",
    "        best_distance (float): Total distance of the best route.\n",
    "    \"\"\"\n",
    "    # Initialize population\n",
    "    population = initialize_population(population_size, num_customers)\n",
    "\n",
    "    # Track the best solution\n",
    "    best_route = None\n",
    "    best_distance = float('inf')\n",
    "\n",
    "    # Main GA loop\n",
    "    for gen in range(generations):\n",
    "        # Evolve the population\n",
    "        population = evolve_population(population, coords, num_customers, mutation_rate, retain_rate)\n",
    "\n",
    "        # Evaluate the population\n",
    "        distances = [calculate_distance(route, coords) for route in population]\n",
    "        min_distance = min(distances)\n",
    "\n",
    "        # Update the best solution\n",
    "        if min_distance < best_distance:\n",
    "            best_distance = min_distance\n",
    "            best_route = population[np.argmin(distances)]\n",
    "\n",
    "        # Optional: Print progress\n",
    "        if gen % 50 == 0 or gen == generations - 1:\n",
    "            print(f\"Generation {gen + 1}/{generations}: Best Distance = {best_distance:.2f}\")\n",
    "\n",
    "    return best_route, best_distance\n"
   ]
  },
  {
   "cell_type": "code",
   "execution_count": 786,
   "metadata": {},
   "outputs": [
    {
     "name": "stdout",
     "output_type": "stream",
     "text": [
      "Generation 1/10: Best Distance = 838.06\n",
      "Generation 10/10: Best Distance = 740.46\n",
      "Best Route: [ 0 13  1 12  6 20  2 18  5  7 10  3  9 14 17  4  8 19 15 16 11  0]\n",
      "Best Distance: 740.4612397988312\n"
     ]
    }
   ],
   "source": [
    "\n",
    "\n",
    "coords_df = pd.read_csv('vrp_data.csv')\n",
    "\n",
    "coords = coords_df[['x', 'y']].to_numpy()\n",
    "\n",
    "num_customers = len(coords) - 1\n",
    "\n",
    "best_route, best_distance = run_ga(coords, num_customers)\n",
    "\n",
    "print(\"Best Route:\", best_route)\n",
    "print(\"Best Distance:\", best_distance)\n"
   ]
  },
  {
   "cell_type": "code",
   "execution_count": 787,
   "metadata": {},
   "outputs": [],
   "source": [
    "import plotly.graph_objects as go\n",
    "\n",
    "def plot_route(coords_df, best_route):\n",
    "    \"\"\"\n",
    "    Plots the best route using Plotly.\n",
    "    \n",
    "    Parameters:\n",
    "        coords_df (pd.DataFrame): DataFrame containing coordinates with 'x' and 'y' columns.\n",
    "        best_route (np.ndarray): Array representing the sequence of customer indices in the route.\n",
    "    \"\"\"\n",
    "    # Extract x and y coordinates for the route\n",
    "    route_coords = coords_df.to_numpy()\n",
    "    route_x = [route_coords[i][0] for i in best_route]\n",
    "    route_y = [route_coords[i][1] for i in best_route]\n",
    "\n",
    "    # Create scatter plot for coordinates\n",
    "    fig = go.Figure()\n",
    "\n",
    "    # Add scatter trace for the route\n",
    "    fig.add_trace(go.Scatter(\n",
    "        x=route_x,\n",
    "        y=route_y,\n",
    "        mode='markers+lines',\n",
    "        name='Route',\n",
    "        marker=dict(size=10, color='blue'),\n",
    "        line=dict(color='orange', width=2)\n",
    "    ))\n",
    "\n",
    "    # Add scatter trace for the depot (start and end point)\n",
    "    fig.add_trace(go.Scatter(\n",
    "        x=[route_x[0], route_x[-1]],  # Start and end point\n",
    "        y=[route_y[0], route_y[-1]],  # Start and end point\n",
    "        mode='markers',\n",
    "        name='Depot',\n",
    "        marker=dict(size=12, color='red')\n",
    "    ))\n",
    "\n",
    "    # Update layout for better visualization\n",
    "    fig.update_layout(\n",
    "        title='Best Route Plot',\n",
    "        xaxis_title='X Coordinate',\n",
    "        yaxis_title='Y Coordinate',\n",
    "        showlegend=True\n",
    "    )\n",
    "\n",
    "    # Show plot\n",
    "    fig.show()\n"
   ]
  },
  {
   "cell_type": "code",
   "execution_count": 788,
   "metadata": {},
   "outputs": [
    {
     "data": {
      "application/vnd.plotly.v1+json": {
       "config": {
        "plotlyServerURL": "https://plot.ly"
       },
       "data": [
        {
         "line": {
          "color": "orange",
          "width": 2
         },
         "marker": {
          "color": "blue",
          "size": 10
         },
         "mode": "markers+lines",
         "name": "Route",
         "type": "scatter",
         "x": [
          50,
          45.6069984217036,
          37.454011884736246,
          29.21446485352181,
          2.0584494295802447,
          68.42330265121569,
          73.1993941811405,
          96.56320330745594,
          60.11150117432088,
          83.24426408004217,
          43.19450186421157,
          15.601864044243651,
          30.42422429595377,
          19.96737821583597,
          6.505159298527952,
          5.8083612168199465,
          18.182496720710063,
          30.46137691733707,
          59.24145688620425,
          60.75448519014384,
          61.18528947223795,
          50
         ],
         "y": [
          50,
          78.51759613930136,
          95.07143064099162,
          36.63618432936917,
          96.99098521619943,
          44.01524937396013,
          59.86584841970366,
          80.83973481164611,
          70.80725777960456,
          21.233911067827616,
          29.122914019804192,
          15.599452033620263,
          52.475643163223786,
          51.42344384136116,
          94.88855372533332,
          86.61761457749351,
          18.34045098534338,
          9.767211400638388,
          4.645041271999773,
          17.052412368729154,
          13.949386065204184,
          50
         ]
        },
        {
         "marker": {
          "color": "red",
          "size": 12
         },
         "mode": "markers",
         "name": "Depot",
         "type": "scatter",
         "x": [
          50,
          50
         ],
         "y": [
          50,
          50
         ]
        }
       ],
       "layout": {
        "showlegend": true,
        "template": {
         "data": {
          "bar": [
           {
            "error_x": {
             "color": "#2a3f5f"
            },
            "error_y": {
             "color": "#2a3f5f"
            },
            "marker": {
             "line": {
              "color": "#E5ECF6",
              "width": 0.5
             },
             "pattern": {
              "fillmode": "overlay",
              "size": 10,
              "solidity": 0.2
             }
            },
            "type": "bar"
           }
          ],
          "barpolar": [
           {
            "marker": {
             "line": {
              "color": "#E5ECF6",
              "width": 0.5
             },
             "pattern": {
              "fillmode": "overlay",
              "size": 10,
              "solidity": 0.2
             }
            },
            "type": "barpolar"
           }
          ],
          "carpet": [
           {
            "aaxis": {
             "endlinecolor": "#2a3f5f",
             "gridcolor": "white",
             "linecolor": "white",
             "minorgridcolor": "white",
             "startlinecolor": "#2a3f5f"
            },
            "baxis": {
             "endlinecolor": "#2a3f5f",
             "gridcolor": "white",
             "linecolor": "white",
             "minorgridcolor": "white",
             "startlinecolor": "#2a3f5f"
            },
            "type": "carpet"
           }
          ],
          "choropleth": [
           {
            "colorbar": {
             "outlinewidth": 0,
             "ticks": ""
            },
            "type": "choropleth"
           }
          ],
          "contour": [
           {
            "colorbar": {
             "outlinewidth": 0,
             "ticks": ""
            },
            "colorscale": [
             [
              0,
              "#0d0887"
             ],
             [
              0.1111111111111111,
              "#46039f"
             ],
             [
              0.2222222222222222,
              "#7201a8"
             ],
             [
              0.3333333333333333,
              "#9c179e"
             ],
             [
              0.4444444444444444,
              "#bd3786"
             ],
             [
              0.5555555555555556,
              "#d8576b"
             ],
             [
              0.6666666666666666,
              "#ed7953"
             ],
             [
              0.7777777777777778,
              "#fb9f3a"
             ],
             [
              0.8888888888888888,
              "#fdca26"
             ],
             [
              1,
              "#f0f921"
             ]
            ],
            "type": "contour"
           }
          ],
          "contourcarpet": [
           {
            "colorbar": {
             "outlinewidth": 0,
             "ticks": ""
            },
            "type": "contourcarpet"
           }
          ],
          "heatmap": [
           {
            "colorbar": {
             "outlinewidth": 0,
             "ticks": ""
            },
            "colorscale": [
             [
              0,
              "#0d0887"
             ],
             [
              0.1111111111111111,
              "#46039f"
             ],
             [
              0.2222222222222222,
              "#7201a8"
             ],
             [
              0.3333333333333333,
              "#9c179e"
             ],
             [
              0.4444444444444444,
              "#bd3786"
             ],
             [
              0.5555555555555556,
              "#d8576b"
             ],
             [
              0.6666666666666666,
              "#ed7953"
             ],
             [
              0.7777777777777778,
              "#fb9f3a"
             ],
             [
              0.8888888888888888,
              "#fdca26"
             ],
             [
              1,
              "#f0f921"
             ]
            ],
            "type": "heatmap"
           }
          ],
          "heatmapgl": [
           {
            "colorbar": {
             "outlinewidth": 0,
             "ticks": ""
            },
            "colorscale": [
             [
              0,
              "#0d0887"
             ],
             [
              0.1111111111111111,
              "#46039f"
             ],
             [
              0.2222222222222222,
              "#7201a8"
             ],
             [
              0.3333333333333333,
              "#9c179e"
             ],
             [
              0.4444444444444444,
              "#bd3786"
             ],
             [
              0.5555555555555556,
              "#d8576b"
             ],
             [
              0.6666666666666666,
              "#ed7953"
             ],
             [
              0.7777777777777778,
              "#fb9f3a"
             ],
             [
              0.8888888888888888,
              "#fdca26"
             ],
             [
              1,
              "#f0f921"
             ]
            ],
            "type": "heatmapgl"
           }
          ],
          "histogram": [
           {
            "marker": {
             "pattern": {
              "fillmode": "overlay",
              "size": 10,
              "solidity": 0.2
             }
            },
            "type": "histogram"
           }
          ],
          "histogram2d": [
           {
            "colorbar": {
             "outlinewidth": 0,
             "ticks": ""
            },
            "colorscale": [
             [
              0,
              "#0d0887"
             ],
             [
              0.1111111111111111,
              "#46039f"
             ],
             [
              0.2222222222222222,
              "#7201a8"
             ],
             [
              0.3333333333333333,
              "#9c179e"
             ],
             [
              0.4444444444444444,
              "#bd3786"
             ],
             [
              0.5555555555555556,
              "#d8576b"
             ],
             [
              0.6666666666666666,
              "#ed7953"
             ],
             [
              0.7777777777777778,
              "#fb9f3a"
             ],
             [
              0.8888888888888888,
              "#fdca26"
             ],
             [
              1,
              "#f0f921"
             ]
            ],
            "type": "histogram2d"
           }
          ],
          "histogram2dcontour": [
           {
            "colorbar": {
             "outlinewidth": 0,
             "ticks": ""
            },
            "colorscale": [
             [
              0,
              "#0d0887"
             ],
             [
              0.1111111111111111,
              "#46039f"
             ],
             [
              0.2222222222222222,
              "#7201a8"
             ],
             [
              0.3333333333333333,
              "#9c179e"
             ],
             [
              0.4444444444444444,
              "#bd3786"
             ],
             [
              0.5555555555555556,
              "#d8576b"
             ],
             [
              0.6666666666666666,
              "#ed7953"
             ],
             [
              0.7777777777777778,
              "#fb9f3a"
             ],
             [
              0.8888888888888888,
              "#fdca26"
             ],
             [
              1,
              "#f0f921"
             ]
            ],
            "type": "histogram2dcontour"
           }
          ],
          "mesh3d": [
           {
            "colorbar": {
             "outlinewidth": 0,
             "ticks": ""
            },
            "type": "mesh3d"
           }
          ],
          "parcoords": [
           {
            "line": {
             "colorbar": {
              "outlinewidth": 0,
              "ticks": ""
             }
            },
            "type": "parcoords"
           }
          ],
          "pie": [
           {
            "automargin": true,
            "type": "pie"
           }
          ],
          "scatter": [
           {
            "fillpattern": {
             "fillmode": "overlay",
             "size": 10,
             "solidity": 0.2
            },
            "type": "scatter"
           }
          ],
          "scatter3d": [
           {
            "line": {
             "colorbar": {
              "outlinewidth": 0,
              "ticks": ""
             }
            },
            "marker": {
             "colorbar": {
              "outlinewidth": 0,
              "ticks": ""
             }
            },
            "type": "scatter3d"
           }
          ],
          "scattercarpet": [
           {
            "marker": {
             "colorbar": {
              "outlinewidth": 0,
              "ticks": ""
             }
            },
            "type": "scattercarpet"
           }
          ],
          "scattergeo": [
           {
            "marker": {
             "colorbar": {
              "outlinewidth": 0,
              "ticks": ""
             }
            },
            "type": "scattergeo"
           }
          ],
          "scattergl": [
           {
            "marker": {
             "colorbar": {
              "outlinewidth": 0,
              "ticks": ""
             }
            },
            "type": "scattergl"
           }
          ],
          "scattermapbox": [
           {
            "marker": {
             "colorbar": {
              "outlinewidth": 0,
              "ticks": ""
             }
            },
            "type": "scattermapbox"
           }
          ],
          "scatterpolar": [
           {
            "marker": {
             "colorbar": {
              "outlinewidth": 0,
              "ticks": ""
             }
            },
            "type": "scatterpolar"
           }
          ],
          "scatterpolargl": [
           {
            "marker": {
             "colorbar": {
              "outlinewidth": 0,
              "ticks": ""
             }
            },
            "type": "scatterpolargl"
           }
          ],
          "scatterternary": [
           {
            "marker": {
             "colorbar": {
              "outlinewidth": 0,
              "ticks": ""
             }
            },
            "type": "scatterternary"
           }
          ],
          "surface": [
           {
            "colorbar": {
             "outlinewidth": 0,
             "ticks": ""
            },
            "colorscale": [
             [
              0,
              "#0d0887"
             ],
             [
              0.1111111111111111,
              "#46039f"
             ],
             [
              0.2222222222222222,
              "#7201a8"
             ],
             [
              0.3333333333333333,
              "#9c179e"
             ],
             [
              0.4444444444444444,
              "#bd3786"
             ],
             [
              0.5555555555555556,
              "#d8576b"
             ],
             [
              0.6666666666666666,
              "#ed7953"
             ],
             [
              0.7777777777777778,
              "#fb9f3a"
             ],
             [
              0.8888888888888888,
              "#fdca26"
             ],
             [
              1,
              "#f0f921"
             ]
            ],
            "type": "surface"
           }
          ],
          "table": [
           {
            "cells": {
             "fill": {
              "color": "#EBF0F8"
             },
             "line": {
              "color": "white"
             }
            },
            "header": {
             "fill": {
              "color": "#C8D4E3"
             },
             "line": {
              "color": "white"
             }
            },
            "type": "table"
           }
          ]
         },
         "layout": {
          "annotationdefaults": {
           "arrowcolor": "#2a3f5f",
           "arrowhead": 0,
           "arrowwidth": 1
          },
          "autotypenumbers": "strict",
          "coloraxis": {
           "colorbar": {
            "outlinewidth": 0,
            "ticks": ""
           }
          },
          "colorscale": {
           "diverging": [
            [
             0,
             "#8e0152"
            ],
            [
             0.1,
             "#c51b7d"
            ],
            [
             0.2,
             "#de77ae"
            ],
            [
             0.3,
             "#f1b6da"
            ],
            [
             0.4,
             "#fde0ef"
            ],
            [
             0.5,
             "#f7f7f7"
            ],
            [
             0.6,
             "#e6f5d0"
            ],
            [
             0.7,
             "#b8e186"
            ],
            [
             0.8,
             "#7fbc41"
            ],
            [
             0.9,
             "#4d9221"
            ],
            [
             1,
             "#276419"
            ]
           ],
           "sequential": [
            [
             0,
             "#0d0887"
            ],
            [
             0.1111111111111111,
             "#46039f"
            ],
            [
             0.2222222222222222,
             "#7201a8"
            ],
            [
             0.3333333333333333,
             "#9c179e"
            ],
            [
             0.4444444444444444,
             "#bd3786"
            ],
            [
             0.5555555555555556,
             "#d8576b"
            ],
            [
             0.6666666666666666,
             "#ed7953"
            ],
            [
             0.7777777777777778,
             "#fb9f3a"
            ],
            [
             0.8888888888888888,
             "#fdca26"
            ],
            [
             1,
             "#f0f921"
            ]
           ],
           "sequentialminus": [
            [
             0,
             "#0d0887"
            ],
            [
             0.1111111111111111,
             "#46039f"
            ],
            [
             0.2222222222222222,
             "#7201a8"
            ],
            [
             0.3333333333333333,
             "#9c179e"
            ],
            [
             0.4444444444444444,
             "#bd3786"
            ],
            [
             0.5555555555555556,
             "#d8576b"
            ],
            [
             0.6666666666666666,
             "#ed7953"
            ],
            [
             0.7777777777777778,
             "#fb9f3a"
            ],
            [
             0.8888888888888888,
             "#fdca26"
            ],
            [
             1,
             "#f0f921"
            ]
           ]
          },
          "colorway": [
           "#636efa",
           "#EF553B",
           "#00cc96",
           "#ab63fa",
           "#FFA15A",
           "#19d3f3",
           "#FF6692",
           "#B6E880",
           "#FF97FF",
           "#FECB52"
          ],
          "font": {
           "color": "#2a3f5f"
          },
          "geo": {
           "bgcolor": "white",
           "lakecolor": "white",
           "landcolor": "#E5ECF6",
           "showlakes": true,
           "showland": true,
           "subunitcolor": "white"
          },
          "hoverlabel": {
           "align": "left"
          },
          "hovermode": "closest",
          "mapbox": {
           "style": "light"
          },
          "paper_bgcolor": "white",
          "plot_bgcolor": "#E5ECF6",
          "polar": {
           "angularaxis": {
            "gridcolor": "white",
            "linecolor": "white",
            "ticks": ""
           },
           "bgcolor": "#E5ECF6",
           "radialaxis": {
            "gridcolor": "white",
            "linecolor": "white",
            "ticks": ""
           }
          },
          "scene": {
           "xaxis": {
            "backgroundcolor": "#E5ECF6",
            "gridcolor": "white",
            "gridwidth": 2,
            "linecolor": "white",
            "showbackground": true,
            "ticks": "",
            "zerolinecolor": "white"
           },
           "yaxis": {
            "backgroundcolor": "#E5ECF6",
            "gridcolor": "white",
            "gridwidth": 2,
            "linecolor": "white",
            "showbackground": true,
            "ticks": "",
            "zerolinecolor": "white"
           },
           "zaxis": {
            "backgroundcolor": "#E5ECF6",
            "gridcolor": "white",
            "gridwidth": 2,
            "linecolor": "white",
            "showbackground": true,
            "ticks": "",
            "zerolinecolor": "white"
           }
          },
          "shapedefaults": {
           "line": {
            "color": "#2a3f5f"
           }
          },
          "ternary": {
           "aaxis": {
            "gridcolor": "white",
            "linecolor": "white",
            "ticks": ""
           },
           "baxis": {
            "gridcolor": "white",
            "linecolor": "white",
            "ticks": ""
           },
           "bgcolor": "#E5ECF6",
           "caxis": {
            "gridcolor": "white",
            "linecolor": "white",
            "ticks": ""
           }
          },
          "title": {
           "x": 0.05
          },
          "xaxis": {
           "automargin": true,
           "gridcolor": "white",
           "linecolor": "white",
           "ticks": "",
           "title": {
            "standoff": 15
           },
           "zerolinecolor": "white",
           "zerolinewidth": 2
          },
          "yaxis": {
           "automargin": true,
           "gridcolor": "white",
           "linecolor": "white",
           "ticks": "",
           "title": {
            "standoff": 15
           },
           "zerolinecolor": "white",
           "zerolinewidth": 2
          }
         }
        },
        "title": {
         "text": "Best Route Plot"
        },
        "xaxis": {
         "title": {
          "text": "X Coordinate"
         }
        },
        "yaxis": {
         "title": {
          "text": "Y Coordinate"
         }
        }
       }
      }
     },
     "metadata": {},
     "output_type": "display_data"
    }
   ],
   "source": [
    "# Example: Call the function to plot the route\n",
    "plot_route(coords_df, best_route)\n"
   ]
  },
  {
   "cell_type": "code",
   "execution_count": null,
   "metadata": {},
   "outputs": [],
   "source": []
  }
 ],
 "metadata": {
  "kernelspec": {
   "display_name": "Python 3",
   "language": "python",
   "name": "python3"
  },
  "language_info": {
   "codemirror_mode": {
    "name": "ipython",
    "version": 3
   },
   "file_extension": ".py",
   "mimetype": "text/x-python",
   "name": "python",
   "nbconvert_exporter": "python",
   "pygments_lexer": "ipython3",
   "version": "3.11.0"
  }
 },
 "nbformat": 4,
 "nbformat_minor": 2
}
