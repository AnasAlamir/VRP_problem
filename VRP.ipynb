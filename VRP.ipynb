{
 "cells": [
  {
   "cell_type": "markdown",
   "metadata": {},
   "source": [
    "# problem\n"
   ]
  },
  {
   "cell_type": "markdown",
   "metadata": {},
   "source": [
    "create data set randomly"
   ]
  },
  {
   "cell_type": "code",
   "execution_count": 82,
   "metadata": {},
   "outputs": [
    {
     "name": "stdout",
     "output_type": "stream",
     "text": [
      "            x          y\n",
      "0   50.000000  50.000000\n",
      "1   37.454012  95.071431\n",
      "2   73.199394  59.865848\n",
      "3   15.601864  15.599452\n",
      "4    5.808361  86.617615\n",
      "5   60.111501  70.807258\n",
      "6    2.058449  96.990985\n",
      "7   83.244264  21.233911\n",
      "8   18.182497  18.340451\n",
      "9   30.424224  52.475643\n",
      "10  43.194502  29.122914\n",
      "11  61.185289  13.949386\n",
      "12  29.214465  36.636184\n",
      "13  45.606998  78.517596\n",
      "14  19.967378  51.423444\n",
      "15  59.241457   4.645041\n",
      "16  60.754485  17.052412\n",
      "17   6.505159  94.888554\n",
      "18  96.563203  80.839735\n",
      "19  30.461377   9.767211\n",
      "20  68.423303  44.015249\n"
     ]
    }
   ],
   "source": [
    "import numpy as np\n",
    "import pandas as pd\n",
    "\n",
    "np.random.seed(42)\n",
    "\n",
    "num_customers = 20\n",
    "\n",
    "customer_coords = np.random.rand(num_customers, 2) * 100\n",
    "\n",
    "depot_coords = np.array([[50, 50]])\n",
    "\n",
    "all_coords = np.vstack([depot_coords, customer_coords])\n",
    "\n",
    "coords_df = pd.DataFrame(all_coords, columns=['x', 'y'])\n",
    "\n",
    "coords_df.to_csv('vrp_data.csv', index=False)\n",
    "\n",
    "print(coords_df)"
   ]
  },
  {
   "cell_type": "markdown",
   "metadata": {},
   "source": [
    "# encoding"
   ]
  },
  {
   "cell_type": "markdown",
   "metadata": {},
   "source": []
  },
  {
   "cell_type": "code",
   "execution_count": 83,
   "metadata": {},
   "outputs": [
    {
     "data": {
      "text/plain": [
       "array([ 0,  1,  2,  3,  4,  5,  6,  7,  8,  9, 10, 11, 12, 13, 14, 15, 16,\n",
       "       17, 18, 19, 20])"
      ]
     },
     "execution_count": 83,
     "metadata": {},
     "output_type": "execute_result"
    }
   ],
   "source": [
    "import numpy as np\n",
    "import pandas as pd\n",
    "\n",
    "coords_df = pd.read_csv('vrp_data.csv')\n",
    "\n",
    "all_coords = coords_df.values\n",
    "\n",
    "customer_indices = np.arange(0, len(all_coords))\n",
    "\n",
    "customer_indices"
   ]
  },
  {
   "cell_type": "code",
   "execution_count": 84,
   "metadata": {},
   "outputs": [
    {
     "data": {
      "application/vnd.plotly.v1+json": {
       "config": {
        "plotlyServerURL": "https://plot.ly"
       },
       "data": [
        {
         "hovertemplate": "Location Type=Depot<br>x=%{x}<br>y=%{y}<extra></extra>",
         "legendgroup": "Depot",
         "marker": {
          "color": "#636efa",
          "symbol": "circle"
         },
         "mode": "markers",
         "name": "Depot",
         "orientation": "v",
         "showlegend": true,
         "type": "scatter",
         "x": [
          50
         ],
         "xaxis": "x",
         "y": [
          50
         ],
         "yaxis": "y"
        },
        {
         "hovertemplate": "Location Type=Customer<br>x=%{x}<br>y=%{y}<extra></extra>",
         "legendgroup": "Customer",
         "marker": {
          "color": "#EF553B",
          "symbol": "circle"
         },
         "mode": "markers",
         "name": "Customer",
         "orientation": "v",
         "showlegend": true,
         "type": "scatter",
         "x": [
          37.454011884736246,
          73.1993941811405,
          15.601864044243651,
          5.8083612168199465,
          60.11150117432088,
          2.0584494295802447,
          83.24426408004217,
          18.182496720710063,
          30.42422429595377,
          43.19450186421157,
          61.18528947223795,
          29.21446485352181,
          45.6069984217036,
          19.96737821583597,
          59.24145688620425,
          60.75448519014384,
          6.505159298527952,
          96.56320330745594,
          30.46137691733707,
          68.42330265121569
         ],
         "xaxis": "x",
         "y": [
          95.07143064099162,
          59.86584841970366,
          15.599452033620263,
          86.61761457749351,
          70.80725777960456,
          96.99098521619943,
          21.233911067827616,
          18.34045098534338,
          52.475643163223786,
          29.122914019804192,
          13.949386065204184,
          36.63618432936917,
          78.51759613930136,
          51.42344384136116,
          4.645041271999773,
          17.052412368729154,
          94.88855372533332,
          80.83973481164611,
          9.767211400638388,
          44.01524937396013
         ],
         "yaxis": "y"
        }
       ],
       "layout": {
        "legend": {
         "title": {
          "text": "Location Type"
         },
         "tracegroupgap": 0
        },
        "template": {
         "data": {
          "bar": [
           {
            "error_x": {
             "color": "#2a3f5f"
            },
            "error_y": {
             "color": "#2a3f5f"
            },
            "marker": {
             "line": {
              "color": "#E5ECF6",
              "width": 0.5
             },
             "pattern": {
              "fillmode": "overlay",
              "size": 10,
              "solidity": 0.2
             }
            },
            "type": "bar"
           }
          ],
          "barpolar": [
           {
            "marker": {
             "line": {
              "color": "#E5ECF6",
              "width": 0.5
             },
             "pattern": {
              "fillmode": "overlay",
              "size": 10,
              "solidity": 0.2
             }
            },
            "type": "barpolar"
           }
          ],
          "carpet": [
           {
            "aaxis": {
             "endlinecolor": "#2a3f5f",
             "gridcolor": "white",
             "linecolor": "white",
             "minorgridcolor": "white",
             "startlinecolor": "#2a3f5f"
            },
            "baxis": {
             "endlinecolor": "#2a3f5f",
             "gridcolor": "white",
             "linecolor": "white",
             "minorgridcolor": "white",
             "startlinecolor": "#2a3f5f"
            },
            "type": "carpet"
           }
          ],
          "choropleth": [
           {
            "colorbar": {
             "outlinewidth": 0,
             "ticks": ""
            },
            "type": "choropleth"
           }
          ],
          "contour": [
           {
            "colorbar": {
             "outlinewidth": 0,
             "ticks": ""
            },
            "colorscale": [
             [
              0,
              "#0d0887"
             ],
             [
              0.1111111111111111,
              "#46039f"
             ],
             [
              0.2222222222222222,
              "#7201a8"
             ],
             [
              0.3333333333333333,
              "#9c179e"
             ],
             [
              0.4444444444444444,
              "#bd3786"
             ],
             [
              0.5555555555555556,
              "#d8576b"
             ],
             [
              0.6666666666666666,
              "#ed7953"
             ],
             [
              0.7777777777777778,
              "#fb9f3a"
             ],
             [
              0.8888888888888888,
              "#fdca26"
             ],
             [
              1,
              "#f0f921"
             ]
            ],
            "type": "contour"
           }
          ],
          "contourcarpet": [
           {
            "colorbar": {
             "outlinewidth": 0,
             "ticks": ""
            },
            "type": "contourcarpet"
           }
          ],
          "heatmap": [
           {
            "colorbar": {
             "outlinewidth": 0,
             "ticks": ""
            },
            "colorscale": [
             [
              0,
              "#0d0887"
             ],
             [
              0.1111111111111111,
              "#46039f"
             ],
             [
              0.2222222222222222,
              "#7201a8"
             ],
             [
              0.3333333333333333,
              "#9c179e"
             ],
             [
              0.4444444444444444,
              "#bd3786"
             ],
             [
              0.5555555555555556,
              "#d8576b"
             ],
             [
              0.6666666666666666,
              "#ed7953"
             ],
             [
              0.7777777777777778,
              "#fb9f3a"
             ],
             [
              0.8888888888888888,
              "#fdca26"
             ],
             [
              1,
              "#f0f921"
             ]
            ],
            "type": "heatmap"
           }
          ],
          "heatmapgl": [
           {
            "colorbar": {
             "outlinewidth": 0,
             "ticks": ""
            },
            "colorscale": [
             [
              0,
              "#0d0887"
             ],
             [
              0.1111111111111111,
              "#46039f"
             ],
             [
              0.2222222222222222,
              "#7201a8"
             ],
             [
              0.3333333333333333,
              "#9c179e"
             ],
             [
              0.4444444444444444,
              "#bd3786"
             ],
             [
              0.5555555555555556,
              "#d8576b"
             ],
             [
              0.6666666666666666,
              "#ed7953"
             ],
             [
              0.7777777777777778,
              "#fb9f3a"
             ],
             [
              0.8888888888888888,
              "#fdca26"
             ],
             [
              1,
              "#f0f921"
             ]
            ],
            "type": "heatmapgl"
           }
          ],
          "histogram": [
           {
            "marker": {
             "pattern": {
              "fillmode": "overlay",
              "size": 10,
              "solidity": 0.2
             }
            },
            "type": "histogram"
           }
          ],
          "histogram2d": [
           {
            "colorbar": {
             "outlinewidth": 0,
             "ticks": ""
            },
            "colorscale": [
             [
              0,
              "#0d0887"
             ],
             [
              0.1111111111111111,
              "#46039f"
             ],
             [
              0.2222222222222222,
              "#7201a8"
             ],
             [
              0.3333333333333333,
              "#9c179e"
             ],
             [
              0.4444444444444444,
              "#bd3786"
             ],
             [
              0.5555555555555556,
              "#d8576b"
             ],
             [
              0.6666666666666666,
              "#ed7953"
             ],
             [
              0.7777777777777778,
              "#fb9f3a"
             ],
             [
              0.8888888888888888,
              "#fdca26"
             ],
             [
              1,
              "#f0f921"
             ]
            ],
            "type": "histogram2d"
           }
          ],
          "histogram2dcontour": [
           {
            "colorbar": {
             "outlinewidth": 0,
             "ticks": ""
            },
            "colorscale": [
             [
              0,
              "#0d0887"
             ],
             [
              0.1111111111111111,
              "#46039f"
             ],
             [
              0.2222222222222222,
              "#7201a8"
             ],
             [
              0.3333333333333333,
              "#9c179e"
             ],
             [
              0.4444444444444444,
              "#bd3786"
             ],
             [
              0.5555555555555556,
              "#d8576b"
             ],
             [
              0.6666666666666666,
              "#ed7953"
             ],
             [
              0.7777777777777778,
              "#fb9f3a"
             ],
             [
              0.8888888888888888,
              "#fdca26"
             ],
             [
              1,
              "#f0f921"
             ]
            ],
            "type": "histogram2dcontour"
           }
          ],
          "mesh3d": [
           {
            "colorbar": {
             "outlinewidth": 0,
             "ticks": ""
            },
            "type": "mesh3d"
           }
          ],
          "parcoords": [
           {
            "line": {
             "colorbar": {
              "outlinewidth": 0,
              "ticks": ""
             }
            },
            "type": "parcoords"
           }
          ],
          "pie": [
           {
            "automargin": true,
            "type": "pie"
           }
          ],
          "scatter": [
           {
            "fillpattern": {
             "fillmode": "overlay",
             "size": 10,
             "solidity": 0.2
            },
            "type": "scatter"
           }
          ],
          "scatter3d": [
           {
            "line": {
             "colorbar": {
              "outlinewidth": 0,
              "ticks": ""
             }
            },
            "marker": {
             "colorbar": {
              "outlinewidth": 0,
              "ticks": ""
             }
            },
            "type": "scatter3d"
           }
          ],
          "scattercarpet": [
           {
            "marker": {
             "colorbar": {
              "outlinewidth": 0,
              "ticks": ""
             }
            },
            "type": "scattercarpet"
           }
          ],
          "scattergeo": [
           {
            "marker": {
             "colorbar": {
              "outlinewidth": 0,
              "ticks": ""
             }
            },
            "type": "scattergeo"
           }
          ],
          "scattergl": [
           {
            "marker": {
             "colorbar": {
              "outlinewidth": 0,
              "ticks": ""
             }
            },
            "type": "scattergl"
           }
          ],
          "scattermapbox": [
           {
            "marker": {
             "colorbar": {
              "outlinewidth": 0,
              "ticks": ""
             }
            },
            "type": "scattermapbox"
           }
          ],
          "scatterpolar": [
           {
            "marker": {
             "colorbar": {
              "outlinewidth": 0,
              "ticks": ""
             }
            },
            "type": "scatterpolar"
           }
          ],
          "scatterpolargl": [
           {
            "marker": {
             "colorbar": {
              "outlinewidth": 0,
              "ticks": ""
             }
            },
            "type": "scatterpolargl"
           }
          ],
          "scatterternary": [
           {
            "marker": {
             "colorbar": {
              "outlinewidth": 0,
              "ticks": ""
             }
            },
            "type": "scatterternary"
           }
          ],
          "surface": [
           {
            "colorbar": {
             "outlinewidth": 0,
             "ticks": ""
            },
            "colorscale": [
             [
              0,
              "#0d0887"
             ],
             [
              0.1111111111111111,
              "#46039f"
             ],
             [
              0.2222222222222222,
              "#7201a8"
             ],
             [
              0.3333333333333333,
              "#9c179e"
             ],
             [
              0.4444444444444444,
              "#bd3786"
             ],
             [
              0.5555555555555556,
              "#d8576b"
             ],
             [
              0.6666666666666666,
              "#ed7953"
             ],
             [
              0.7777777777777778,
              "#fb9f3a"
             ],
             [
              0.8888888888888888,
              "#fdca26"
             ],
             [
              1,
              "#f0f921"
             ]
            ],
            "type": "surface"
           }
          ],
          "table": [
           {
            "cells": {
             "fill": {
              "color": "#EBF0F8"
             },
             "line": {
              "color": "white"
             }
            },
            "header": {
             "fill": {
              "color": "#C8D4E3"
             },
             "line": {
              "color": "white"
             }
            },
            "type": "table"
           }
          ]
         },
         "layout": {
          "annotationdefaults": {
           "arrowcolor": "#2a3f5f",
           "arrowhead": 0,
           "arrowwidth": 1
          },
          "autotypenumbers": "strict",
          "coloraxis": {
           "colorbar": {
            "outlinewidth": 0,
            "ticks": ""
           }
          },
          "colorscale": {
           "diverging": [
            [
             0,
             "#8e0152"
            ],
            [
             0.1,
             "#c51b7d"
            ],
            [
             0.2,
             "#de77ae"
            ],
            [
             0.3,
             "#f1b6da"
            ],
            [
             0.4,
             "#fde0ef"
            ],
            [
             0.5,
             "#f7f7f7"
            ],
            [
             0.6,
             "#e6f5d0"
            ],
            [
             0.7,
             "#b8e186"
            ],
            [
             0.8,
             "#7fbc41"
            ],
            [
             0.9,
             "#4d9221"
            ],
            [
             1,
             "#276419"
            ]
           ],
           "sequential": [
            [
             0,
             "#0d0887"
            ],
            [
             0.1111111111111111,
             "#46039f"
            ],
            [
             0.2222222222222222,
             "#7201a8"
            ],
            [
             0.3333333333333333,
             "#9c179e"
            ],
            [
             0.4444444444444444,
             "#bd3786"
            ],
            [
             0.5555555555555556,
             "#d8576b"
            ],
            [
             0.6666666666666666,
             "#ed7953"
            ],
            [
             0.7777777777777778,
             "#fb9f3a"
            ],
            [
             0.8888888888888888,
             "#fdca26"
            ],
            [
             1,
             "#f0f921"
            ]
           ],
           "sequentialminus": [
            [
             0,
             "#0d0887"
            ],
            [
             0.1111111111111111,
             "#46039f"
            ],
            [
             0.2222222222222222,
             "#7201a8"
            ],
            [
             0.3333333333333333,
             "#9c179e"
            ],
            [
             0.4444444444444444,
             "#bd3786"
            ],
            [
             0.5555555555555556,
             "#d8576b"
            ],
            [
             0.6666666666666666,
             "#ed7953"
            ],
            [
             0.7777777777777778,
             "#fb9f3a"
            ],
            [
             0.8888888888888888,
             "#fdca26"
            ],
            [
             1,
             "#f0f921"
            ]
           ]
          },
          "colorway": [
           "#636efa",
           "#EF553B",
           "#00cc96",
           "#ab63fa",
           "#FFA15A",
           "#19d3f3",
           "#FF6692",
           "#B6E880",
           "#FF97FF",
           "#FECB52"
          ],
          "font": {
           "color": "#2a3f5f"
          },
          "geo": {
           "bgcolor": "white",
           "lakecolor": "white",
           "landcolor": "#E5ECF6",
           "showlakes": true,
           "showland": true,
           "subunitcolor": "white"
          },
          "hoverlabel": {
           "align": "left"
          },
          "hovermode": "closest",
          "mapbox": {
           "style": "light"
          },
          "paper_bgcolor": "white",
          "plot_bgcolor": "#E5ECF6",
          "polar": {
           "angularaxis": {
            "gridcolor": "white",
            "linecolor": "white",
            "ticks": ""
           },
           "bgcolor": "#E5ECF6",
           "radialaxis": {
            "gridcolor": "white",
            "linecolor": "white",
            "ticks": ""
           }
          },
          "scene": {
           "xaxis": {
            "backgroundcolor": "#E5ECF6",
            "gridcolor": "white",
            "gridwidth": 2,
            "linecolor": "white",
            "showbackground": true,
            "ticks": "",
            "zerolinecolor": "white"
           },
           "yaxis": {
            "backgroundcolor": "#E5ECF6",
            "gridcolor": "white",
            "gridwidth": 2,
            "linecolor": "white",
            "showbackground": true,
            "ticks": "",
            "zerolinecolor": "white"
           },
           "zaxis": {
            "backgroundcolor": "#E5ECF6",
            "gridcolor": "white",
            "gridwidth": 2,
            "linecolor": "white",
            "showbackground": true,
            "ticks": "",
            "zerolinecolor": "white"
           }
          },
          "shapedefaults": {
           "line": {
            "color": "#2a3f5f"
           }
          },
          "ternary": {
           "aaxis": {
            "gridcolor": "white",
            "linecolor": "white",
            "ticks": ""
           },
           "baxis": {
            "gridcolor": "white",
            "linecolor": "white",
            "ticks": ""
           },
           "bgcolor": "#E5ECF6",
           "caxis": {
            "gridcolor": "white",
            "linecolor": "white",
            "ticks": ""
           }
          },
          "title": {
           "x": 0.05
          },
          "xaxis": {
           "automargin": true,
           "gridcolor": "white",
           "linecolor": "white",
           "ticks": "",
           "title": {
            "standoff": 15
           },
           "zerolinecolor": "white",
           "zerolinewidth": 2
          },
          "yaxis": {
           "automargin": true,
           "gridcolor": "white",
           "linecolor": "white",
           "ticks": "",
           "title": {
            "standoff": 15
           },
           "zerolinecolor": "white",
           "zerolinewidth": 2
          }
         }
        },
        "title": {
         "text": "Customer and Depot Locations"
        },
        "xaxis": {
         "anchor": "y",
         "domain": [
          0,
          1
         ],
         "title": {
          "text": "x"
         }
        },
        "yaxis": {
         "anchor": "x",
         "domain": [
          0,
          1
         ],
         "title": {
          "text": "y"
         }
        }
       }
      }
     },
     "metadata": {},
     "output_type": "display_data"
    }
   ],
   "source": [
    "import plotly.express as px\n",
    "\n",
    "fig = px.scatter(coords_df, x='x', y='y', color=['Depot'] + ['Customer']*num_customers, \n",
    "                 labels={'color': 'Location Type'}, title='Customer and Depot Locations')\n",
    "\n",
    "fig.show()\n"
   ]
  },
  {
   "cell_type": "markdown",
   "metadata": {},
   "source": [
    "# huristic function"
   ]
  },
  {
   "cell_type": "markdown",
   "metadata": {},
   "source": [
    "distance calculated using eculadian distance formula with L2 norm"
   ]
  },
  {
   "cell_type": "code",
   "execution_count": 85,
   "metadata": {},
   "outputs": [],
   "source": [
    "def distance(route, df):\n",
    "    \n",
    "    total_distance = 0\n",
    "    coords = df[['x', 'y']].values\n",
    "    \n",
    "    depot = coords[0]\n",
    "    \n",
    "    total_distance += np.linalg.norm(depot - coords[route[0]], ord=2)\n",
    "    \n",
    "    for i in range(len(route) - 1):\n",
    "        total_distance += np.linalg.norm(coords[route[i]] - coords[route[i + 1]], ord=2)\n",
    "    \n",
    "    total_distance += np.linalg.norm(coords[route[-1]] - depot, ord=2)\n",
    "    \n",
    "    return total_distance\n",
    "\n",
    "\n",
    "# customer_indices = np.arange(0, len(coords_df))\n",
    "\n",
    "# example_route = np.random.permutation(customer_indices[1:])  \n",
    "# example_route = np.insert(example_route, 0, 0)  \n",
    "# total_cost = distance(example_route, coords_df)\n",
    "# print(\"Example Route: \", example_route)\n",
    "# print(\"Total Cost of the Example Route: \", total_cost)"
   ]
  },
  {
   "cell_type": "code",
   "execution_count": 86,
   "metadata": {},
   "outputs": [
    {
     "name": "stdout",
     "output_type": "stream",
     "text": [
      "Route 1: [ 0 16 17  5 10  9 20 11  6 19 13 18  2  4  1 14  3 15  8 12  7  0]\n",
      "Route 2: [ 0  3  1  6 15 19 20 11 17  5 13  9  7  8 16  4 14 10  2 12 18  0]\n",
      "Route 3: [ 0  2  5  6  4 11 17  3 14 10 12 16  8 18  7 19  1 20 15  9 13  0]\n",
      "Route 4: [ 0  4 14 16  3 19  6 13 11 20  2  8 15 17 12  9 18  7 10  5  1  0]\n",
      "Route 5: [ 0 12  8  9  4  6  2 13 16 11  7 10 17 19 18 14 15  5 20  1  3  0]\n"
     ]
    }
   ],
   "source": [
    "num_customers = len(coords_df) - 1\n",
    "\n",
    "population_size = 100\n",
    "\n",
    "# Create an array of indices representing the depot and customers\n",
    "customer_indices = np.arange(1, num_customers + 1)  # Exclude depot (0)\n",
    "\n",
    "# Initialize the population\n",
    "population = []\n",
    "for _ in range(population_size):\n",
    "    route = np.random.permutation(customer_indices)\n",
    "    route = np.insert(route, 0, 0)  # Insert depot at the start\n",
    "    route = np.append(route, 0)  # Append depot at the end\n",
    "    population.append(route)\n",
    "population = np.array(population)\n",
    "\n",
    "# Print the first 5 routes (for verification)\n",
    "for i in range(5):\n",
    "    print(f\"Route {i + 1}: {population[i]}\")\n",
    "\n",
    "# Save the population to a CSV file if needed\n",
    "pd.DataFrame(population).to_csv('initial_population.csv', index=False)"
   ]
  },
  {
   "cell_type": "code",
   "execution_count": 87,
   "metadata": {},
   "outputs": [
    {
     "data": {
      "text/plain": [
       "array([[ 0, 16, 17, ..., 12,  7,  0],\n",
       "       [ 0,  3,  1, ..., 12, 18,  0],\n",
       "       [ 0,  2,  5, ...,  9, 13,  0],\n",
       "       ...,\n",
       "       [ 0, 11, 13, ..., 16, 20,  0],\n",
       "       [ 0, 16, 12, ..., 14, 19,  0],\n",
       "       [ 0, 18, 13, ..., 10,  3,  0]])"
      ]
     },
     "execution_count": 87,
     "metadata": {},
     "output_type": "execute_result"
    }
   ],
   "source": [
    "population"
   ]
  },
  {
   "cell_type": "markdown",
   "metadata": {},
   "source": [
    "# selection function"
   ]
  },
  {
   "cell_type": "code",
   "execution_count": 88,
   "metadata": {},
   "outputs": [],
   "source": [
    "import random\n",
    "\n",
    "# def selection(population, fitness_scores, num_parents):\n",
    "#     ranked_population = [x for _, x in sorted(zip(fitness_scores, population), reverse=True)]\n",
    "#     selected_parents = ranked_population[:num_parents]\n",
    "#     return selected_parents\n",
    "\n",
    "\n",
    "#     import numpy as np\n",
    "\n",
    "def selection(population, fitness_scores, num_parents):\n",
    "    sorted_indices = np.argsort(fitness_scores)\n",
    "    ranked_population = [population[i] for i in sorted_indices]\n",
    "    selected_parents = ranked_population[:num_parents]\n",
    "    return selected_parents"
   ]
  },
  {
   "cell_type": "markdown",
   "metadata": {},
   "source": [
    "<h1>evlolve </h1>\n",
    "<p>Something </p>\n",
    "\n",
    "<style>\n",
    "    h1 {\n",
    "        color: red;\n",
    "    }\n",
    "    p {\n",
    "        position: relative;\n",
    "        animation: moveRightLeft 2s infinite ease-in-out;\n",
    "    }\n",
    "\n",
    "    @keyframes moveRightLeft {\n",
    "        0% {\n",
    "            left: 0;\n",
    "        }\n",
    "        50% {\n",
    "            left: 100px;\n",
    "        }\n",
    "        100% {\n",
    "            left: 0;\n",
    "        }\n",
    "    }\n",
    "</style>"
   ]
  },
  {
   "cell_type": "code",
   "execution_count": 89,
   "metadata": {},
   "outputs": [],
   "source": [
    "def order_crossover(parent1, parent2):\n",
    "    size = len(parent1)\n",
    "    start, end = sorted(np.random.choice(range(1, size - 1), 2, replace=False))\n",
    "\n",
    "    child1 = [None] * size\n",
    "    child2 = [None] * size\n",
    "\n",
    "    child1[start:end] = parent1[start:end]\n",
    "    child2[start:end] = parent2[start:end]\n",
    "\n",
    "    fill_child(child1, parent2, start, end)\n",
    "    fill_child(child2, parent1, start, end)\n",
    "\n",
    "    return child1, child2\n",
    "\n",
    "\n",
    "def fill_child(child, parent, start, end):\n",
    "    size = len(child)\n",
    "    current_pos = end\n",
    "    for gene in parent[end:] + parent[:end]:\n",
    "        if gene not in child:\n",
    "            if current_pos >= size:\n",
    "                current_pos = 1\n",
    "            child[current_pos] = gene\n",
    "            current_pos += 1"
   ]
  },
  {
   "cell_type": "code",
   "execution_count": 90,
   "metadata": {},
   "outputs": [],
   "source": [
    "def evolve(population, df, retain=0.2, random_select=0.05, mutate=0.01):\n",
    "\n",
    "\n",
    "    fitness_scores = [distance(ind, df) for ind in population]\n",
    "    \n",
    "    retain_length = int(len(population) * retain)\n",
    "    parents = selection(population, fitness_scores, retain_length)\n",
    "    \n",
    "    for individual in population[retain_length:]:\n",
    "        if random_select > np.random.rand():\n",
    "            parents.append(individual)\n",
    "    \n",
    "    # swap two random customers in each individual for mutation function \n",
    "    for individual in parents:\n",
    "        if mutate > np.random.rand():\n",
    "            pos1 = np.random.randint(1, len(individual))\n",
    "            pos2 = np.random.randint(1, len(individual))\n",
    "            individual[pos1], individual[pos2] = individual[pos2], individual[pos1]\n",
    "    \n",
    "\n",
    "    parents_length = len(parents)\n",
    "    desired_length = len(population) - parents_length\n",
    "\n",
    "    # children = []\n",
    "    # while len(children) < desired_length:\n",
    "    #     male_idx = np.random.randint(0, parents_length)\n",
    "    #     female_idx = np.random.randint(0, parents_length)\n",
    "    #     if male_idx != female_idx:\n",
    "    #         male = parents[male_idx]\n",
    "    #         female = parents[female_idx]\n",
    "    #         half = len(male) // 2\n",
    "    #         child = np.concatenate((male[:half], female[half:]))\n",
    "    #         children.append(child)\n",
    "\n",
    "\n",
    "    children = []\n",
    "    \n",
    "    while len(children) < desired_length:\n",
    "        male_idx = np.random.randint(0, parents_length)\n",
    "        female_idx = np.random.randint(0, parents_length)\n",
    "        if male_idx != female_idx:\n",
    "            male = parents[male_idx]\n",
    "            female = parents[female_idx]\n",
    "            child1, child2 = order_crossover(male, female)\n",
    "            children.append(child1)\n",
    "            if len(children) < desired_length:\n",
    "                children.append(child2)\n",
    "\n",
    "    parents.extend(children)\n",
    "\n",
    "\n",
    "\n",
    "    \n",
    "    return parents"
   ]
  },
  {
   "cell_type": "code",
   "execution_count": 91,
   "metadata": {},
   "outputs": [
    {
     "ename": "ValueError",
     "evalue": "operands could not be broadcast together with shapes (10,) (12,) ",
     "output_type": "error",
     "traceback": [
      "\u001b[1;31m---------------------------------------------------------------------------\u001b[0m",
      "\u001b[1;31mValueError\u001b[0m                                Traceback (most recent call last)",
      "Cell \u001b[1;32mIn[91], line 3\u001b[0m\n\u001b[0;32m      1\u001b[0m generations \u001b[38;5;241m=\u001b[39m \u001b[38;5;241m100\u001b[39m\n\u001b[0;32m      2\u001b[0m \u001b[38;5;28;01mfor\u001b[39;00m _ \u001b[38;5;129;01min\u001b[39;00m \u001b[38;5;28mrange\u001b[39m(generations):\n\u001b[1;32m----> 3\u001b[0m     population \u001b[38;5;241m=\u001b[39m \u001b[43mevolve\u001b[49m\u001b[43m(\u001b[49m\u001b[43mpopulation\u001b[49m\u001b[43m,\u001b[49m\u001b[43m \u001b[49m\u001b[43mcoords_df\u001b[49m\u001b[43m)\u001b[49m\n\u001b[0;32m      6\u001b[0m fitness_scores \u001b[38;5;241m=\u001b[39m [distance(ind, coords_df) \u001b[38;5;28;01mfor\u001b[39;00m ind \u001b[38;5;129;01min\u001b[39;00m population]\n\u001b[0;32m      7\u001b[0m best_route_idx \u001b[38;5;241m=\u001b[39m np\u001b[38;5;241m.\u001b[39margmin(fitness_scores)\n",
      "Cell \u001b[1;32mIn[90], line 44\u001b[0m, in \u001b[0;36mevolve\u001b[1;34m(population, df, retain, random_select, mutate)\u001b[0m\n\u001b[0;32m     42\u001b[0m male \u001b[38;5;241m=\u001b[39m parents[male_idx]\n\u001b[0;32m     43\u001b[0m female \u001b[38;5;241m=\u001b[39m parents[female_idx]\n\u001b[1;32m---> 44\u001b[0m child1, child2 \u001b[38;5;241m=\u001b[39m \u001b[43morder_crossover\u001b[49m\u001b[43m(\u001b[49m\u001b[43mmale\u001b[49m\u001b[43m,\u001b[49m\u001b[43m \u001b[49m\u001b[43mfemale\u001b[49m\u001b[43m)\u001b[49m\n\u001b[0;32m     45\u001b[0m children\u001b[38;5;241m.\u001b[39mappend(child1)\n\u001b[0;32m     46\u001b[0m \u001b[38;5;28;01mif\u001b[39;00m \u001b[38;5;28mlen\u001b[39m(children) \u001b[38;5;241m<\u001b[39m desired_length:\n",
      "Cell \u001b[1;32mIn[89], line 11\u001b[0m, in \u001b[0;36morder_crossover\u001b[1;34m(parent1, parent2)\u001b[0m\n\u001b[0;32m      8\u001b[0m child1[start:end] \u001b[38;5;241m=\u001b[39m parent1[start:end]\n\u001b[0;32m      9\u001b[0m child2[start:end] \u001b[38;5;241m=\u001b[39m parent2[start:end]\n\u001b[1;32m---> 11\u001b[0m \u001b[43mfill_child\u001b[49m\u001b[43m(\u001b[49m\u001b[43mchild1\u001b[49m\u001b[43m,\u001b[49m\u001b[43m \u001b[49m\u001b[43mparent2\u001b[49m\u001b[43m,\u001b[49m\u001b[43m \u001b[49m\u001b[43mstart\u001b[49m\u001b[43m,\u001b[49m\u001b[43m \u001b[49m\u001b[43mend\u001b[49m\u001b[43m)\u001b[49m\n\u001b[0;32m     12\u001b[0m fill_child(child2, parent1, start, end)\n\u001b[0;32m     14\u001b[0m \u001b[38;5;28;01mreturn\u001b[39;00m child1, child2\n",
      "Cell \u001b[1;32mIn[89], line 20\u001b[0m, in \u001b[0;36mfill_child\u001b[1;34m(child, parent, start, end)\u001b[0m\n\u001b[0;32m     18\u001b[0m size \u001b[38;5;241m=\u001b[39m \u001b[38;5;28mlen\u001b[39m(child)\n\u001b[0;32m     19\u001b[0m current_pos \u001b[38;5;241m=\u001b[39m end\n\u001b[1;32m---> 20\u001b[0m \u001b[38;5;28;01mfor\u001b[39;00m gene \u001b[38;5;129;01min\u001b[39;00m \u001b[43mparent\u001b[49m\u001b[43m[\u001b[49m\u001b[43mend\u001b[49m\u001b[43m:\u001b[49m\u001b[43m]\u001b[49m\u001b[43m \u001b[49m\u001b[38;5;241;43m+\u001b[39;49m\u001b[43m \u001b[49m\u001b[43mparent\u001b[49m\u001b[43m[\u001b[49m\u001b[43m:\u001b[49m\u001b[43mend\u001b[49m\u001b[43m]\u001b[49m:\n\u001b[0;32m     21\u001b[0m     \u001b[38;5;28;01mif\u001b[39;00m gene \u001b[38;5;129;01mnot\u001b[39;00m \u001b[38;5;129;01min\u001b[39;00m child:\n\u001b[0;32m     22\u001b[0m         \u001b[38;5;28;01mif\u001b[39;00m current_pos \u001b[38;5;241m>\u001b[39m\u001b[38;5;241m=\u001b[39m size:\n",
      "\u001b[1;31mValueError\u001b[0m: operands could not be broadcast together with shapes (10,) (12,) "
     ]
    }
   ],
   "source": [
    "generations = 100\n",
    "for _ in range(generations):\n",
    "    population = evolve(population, coords_df)\n",
    "\n",
    "\n",
    "fitness_scores = [distance(ind, coords_df) for ind in population]\n",
    "best_route_idx = np.argmin(fitness_scores)\n",
    "best_route = population[best_route_idx]\n",
    "print(\"Best Route: \", best_route)\n",
    "print(\"Best Route Distance: \", fitness_scores[best_route_idx])"
   ]
  }
 ],
 "metadata": {
  "kernelspec": {
   "display_name": "Python 3",
   "language": "python",
   "name": "python3"
  },
  "language_info": {
   "codemirror_mode": {
    "name": "ipython",
    "version": 3
   },
   "file_extension": ".py",
   "mimetype": "text/x-python",
   "name": "python",
   "nbconvert_exporter": "python",
   "pygments_lexer": "ipython3",
   "version": "3.11.0"
  }
 },
 "nbformat": 4,
 "nbformat_minor": 2
}
